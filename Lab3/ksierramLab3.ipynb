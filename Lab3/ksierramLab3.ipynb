{
  "cells": [
    {
      "cell_type": "markdown",
      "metadata": {
        "colab_type": "text",
        "id": "view-in-github"
      },
      "source": [
        "## Karem Nataly Sierra Molina\n"
      ]
    },
    {
      "cell_type": "code",
      "execution_count": 1,
      "metadata": {
        "colab": {
          "base_uri": "https://localhost:8080/"
        },
        "id": "im-VVd1__7VU",
        "outputId": "241ea753-079d-4c27-8369-9bd46768b5dc"
      },
      "outputs": [
        {
          "name": "stdout",
          "output_type": "stream",
          "text": [
            "processor\t: 0\n",
            "vendor_id\t: GenuineIntel\n",
            "cpu family\t: 6\n",
            "model\t\t: 79\n",
            "model name\t: Intel(R) Xeon(R) CPU @ 2.20GHz\n",
            "stepping\t: 0\n",
            "microcode\t: 0xffffffff\n",
            "cpu MHz\t\t: 2199.998\n",
            "cache size\t: 56320 KB\n",
            "physical id\t: 0\n",
            "siblings\t: 2\n",
            "core id\t\t: 0\n",
            "cpu cores\t: 1\n",
            "apicid\t\t: 0\n",
            "initial apicid\t: 0\n",
            "fpu\t\t: yes\n",
            "fpu_exception\t: yes\n",
            "cpuid level\t: 13\n",
            "wp\t\t: yes\n",
            "flags\t\t: fpu vme de pse tsc msr pae mce cx8 apic sep mtrr pge mca cmov pat pse36 clflush mmx fxsr sse sse2 ss ht syscall nx pdpe1gb rdtscp lm constant_tsc rep_good nopl xtopology nonstop_tsc cpuid tsc_known_freq pni pclmulqdq ssse3 fma cx16 pcid sse4_1 sse4_2 x2apic movbe popcnt aes xsave avx f16c rdrand hypervisor lahf_lm abm 3dnowprefetch invpcid_single ssbd ibrs ibpb stibp fsgsbase tsc_adjust bmi1 hle avx2 smep bmi2 erms invpcid rtm rdseed adx smap xsaveopt arat md_clear arch_capabilities\n",
            "bugs\t\t: cpu_meltdown spectre_v1 spectre_v2 spec_store_bypass l1tf mds swapgs taa mmio_stale_data retbleed\n",
            "bogomips\t: 4399.99\n",
            "clflush size\t: 64\n",
            "cache_alignment\t: 64\n",
            "address sizes\t: 46 bits physical, 48 bits virtual\n",
            "power management:\n",
            "\n",
            "processor\t: 1\n",
            "vendor_id\t: GenuineIntel\n",
            "cpu family\t: 6\n",
            "model\t\t: 79\n",
            "model name\t: Intel(R) Xeon(R) CPU @ 2.20GHz\n",
            "stepping\t: 0\n",
            "microcode\t: 0xffffffff\n",
            "cpu MHz\t\t: 2199.998\n",
            "cache size\t: 56320 KB\n",
            "physical id\t: 0\n",
            "siblings\t: 2\n",
            "core id\t\t: 0\n",
            "cpu cores\t: 1\n",
            "apicid\t\t: 1\n",
            "initial apicid\t: 1\n",
            "fpu\t\t: yes\n",
            "fpu_exception\t: yes\n",
            "cpuid level\t: 13\n",
            "wp\t\t: yes\n",
            "flags\t\t: fpu vme de pse tsc msr pae mce cx8 apic sep mtrr pge mca cmov pat pse36 clflush mmx fxsr sse sse2 ss ht syscall nx pdpe1gb rdtscp lm constant_tsc rep_good nopl xtopology nonstop_tsc cpuid tsc_known_freq pni pclmulqdq ssse3 fma cx16 pcid sse4_1 sse4_2 x2apic movbe popcnt aes xsave avx f16c rdrand hypervisor lahf_lm abm 3dnowprefetch invpcid_single ssbd ibrs ibpb stibp fsgsbase tsc_adjust bmi1 hle avx2 smep bmi2 erms invpcid rtm rdseed adx smap xsaveopt arat md_clear arch_capabilities\n",
            "bugs\t\t: cpu_meltdown spectre_v1 spectre_v2 spec_store_bypass l1tf mds swapgs taa mmio_stale_data retbleed\n",
            "bogomips\t: 4399.99\n",
            "clflush size\t: 64\n",
            "cache_alignment\t: 64\n",
            "address sizes\t: 46 bits physical, 48 bits virtual\n",
            "power management:\n",
            "\n"
          ]
        }
      ],
      "source": [
        "!cat /proc/cpuinfo"
      ]
    },
    {
      "cell_type": "markdown",
      "metadata": {
        "id": "N1ok_-56OjB1"
      },
      "source": [
        "# I Solving the Sum of Two Digits Programming Challenge"
      ]
    },
    {
      "cell_type": "markdown",
      "metadata": {
        "id": "MMY7kmDSO0KM"
      },
      "source": [
        "## C++"
      ]
    },
    {
      "cell_type": "code",
      "execution_count": 2,
      "metadata": {
        "colab": {
          "base_uri": "https://localhost:8080/"
        },
        "id": "2pGGf9BkPNIk",
        "outputId": "2043c267-e604-4715-cc3a-bab74012a701"
      },
      "outputs": [
        {
          "name": "stdout",
          "output_type": "stream",
          "text": [
            "Writing APlusB.cpp\n"
          ]
        }
      ],
      "source": [
        "%%writefile APlusB.cpp\n",
        "#include <iostream>\n",
        "\n",
        "int sum_of_two_digits(int first_digit, int second_digit) {\n",
        "    return first_digit + second_digit;\n",
        "}\n",
        "\n",
        "int main() {\n",
        "    int a = 0;\n",
        "    int b = 0;\n",
        "    std::cin >> a;\n",
        "    std::cin >> b;\n",
        "    std::cout << sum_of_two_digits(a, b);\n",
        "    return 0;\n",
        "}"
      ]
    },
    {
      "cell_type": "code",
      "execution_count": null,
      "metadata": {
        "id": "0G3ZKOYAPXSU"
      },
      "outputs": [],
      "source": [
        "!g++ APlusB.cpp -o APlusB -std=c++11\n",
        "!./APlusB"
      ]
    },
    {
      "cell_type": "markdown",
      "metadata": {
        "id": "iNkG2HqfTl9c"
      },
      "source": [
        "### Test input output files"
      ]
    },
    {
      "cell_type": "code",
      "execution_count": null,
      "metadata": {
        "id": "aTzU2efzMxly"
      },
      "outputs": [],
      "source": [
        "%%writefile input1.txt\n",
        "4 8"
      ]
    },
    {
      "cell_type": "code",
      "execution_count": null,
      "metadata": {
        "id": "zBJ0Gc0NQRet"
      },
      "outputs": [],
      "source": [
        "%%writefile output1.txt\n",
        "12"
      ]
    },
    {
      "cell_type": "code",
      "execution_count": null,
      "metadata": {
        "id": "IjEcIx63PJAN"
      },
      "outputs": [],
      "source": [
        "%%writefile input2.txt\n",
        "0 9"
      ]
    },
    {
      "cell_type": "code",
      "execution_count": null,
      "metadata": {
        "id": "Up9gOrxURTmd"
      },
      "outputs": [],
      "source": [
        "%%writefile output2.txt\n",
        "9"
      ]
    },
    {
      "cell_type": "code",
      "execution_count": null,
      "metadata": {
        "id": "PST6G-s-Pwgc"
      },
      "outputs": [],
      "source": [
        "!./APlusB < input1.txt"
      ]
    },
    {
      "cell_type": "code",
      "execution_count": null,
      "metadata": {
        "id": "cKxZOjSlRfIN"
      },
      "outputs": [],
      "source": [
        "!./APlusB < input2.txt"
      ]
    },
    {
      "cell_type": "markdown",
      "metadata": {
        "id": "Qw2TQWCCUwqk"
      },
      "source": [
        "### Comparing files with grep\n",
        "\n",
        "https://askubuntu.com/questions/546796/comparing-two-text-files"
      ]
    },
    {
      "cell_type": "code",
      "execution_count": null,
      "metadata": {
        "id": "WVIaAmMKU4QM"
      },
      "outputs": [],
      "source": [
        "!grep -xvFf output1.txt output1.txt"
      ]
    },
    {
      "cell_type": "code",
      "execution_count": null,
      "metadata": {
        "id": "MQU8gPPjQuYO"
      },
      "outputs": [],
      "source": [
        "!grep -xvFf output1.txt output2.txt"
      ]
    },
    {
      "cell_type": "code",
      "execution_count": null,
      "metadata": {
        "id": "jYL9OuYBTD_l"
      },
      "outputs": [],
      "source": [
        "!grep -xvFf output2.txt output1.txt"
      ]
    },
    {
      "cell_type": "code",
      "execution_count": null,
      "metadata": {
        "id": "Jlja0Xm4TX9M"
      },
      "outputs": [],
      "source": [
        "!./APlusB < input1.txt> ctest1.txt\n",
        "!grep -xvFf output1.txt ctest1.txt"
      ]
    },
    {
      "cell_type": "code",
      "execution_count": null,
      "metadata": {
        "id": "g9OIUZA_QLCQ"
      },
      "outputs": [],
      "source": [
        "!./APlusB < input2.txt > ctest2.txt\n",
        "!grep -xvFf output2.txt ctest2.txt"
      ]
    },
    {
      "cell_type": "markdown",
      "metadata": {
        "id": "3BgOaDjUVJk6"
      },
      "source": [
        "## Python"
      ]
    },
    {
      "cell_type": "code",
      "execution_count": null,
      "metadata": {
        "id": "DBvl-T0CTN_8"
      },
      "outputs": [],
      "source": [
        "%%writefile sum.py\n",
        "# python3\n",
        "\n",
        "def sum_of_two_digits(first_digit, second_digit):\n",
        "    return first_digit + second_digit\n",
        "\n",
        "if __name__ == '__main__':\n",
        "    a, b = map(int, input().split())\n",
        "    print(sum_of_two_digits(a, b))"
      ]
    },
    {
      "cell_type": "code",
      "execution_count": null,
      "metadata": {
        "id": "QKoKM11_WGyF"
      },
      "outputs": [],
      "source": [
        "!python sum.py"
      ]
    },
    {
      "cell_type": "code",
      "execution_count": null,
      "metadata": {
        "id": "cocFbPRTWrqt"
      },
      "outputs": [],
      "source": [
        "!python sum.py  < input1.txt> ptest1.txt\n",
        "!grep -xvFf output1.txt ptest1.txt"
      ]
    },
    {
      "cell_type": "code",
      "execution_count": null,
      "metadata": {
        "id": "MorKTa-XXASN"
      },
      "outputs": [],
      "source": [
        "!python sum.py  < input2.txt> ptest2.txt\n",
        "!grep -xvFf output2.txt ptest2.txt"
      ]
    },
    {
      "cell_type": "markdown",
      "metadata": {
        "id": "uvP-mOubW_5F"
      },
      "source": [
        "# II Solving The Maximum Pairwise Product Programming Challenge in C++"
      ]
    },
    {
      "cell_type": "markdown",
      "metadata": {
        "id": "C12yoFR6Xonl"
      },
      "source": [
        "## C++\n",
        "\n",
        "$$ T(n) < 6 n^2 = O(n^2)$$"
      ]
    },
    {
      "cell_type": "code",
      "execution_count": null,
      "metadata": {
        "id": "3LpfoGv2Ae81"
      },
      "outputs": [],
      "source": [
        "%%writefile max_pairwise_product_full.cpp\n",
        "#include <iostream>\n",
        "#include <vector>\n",
        "#include <algorithm>\n",
        "\n",
        "int MaxPairwiseProduct(const std::vector<int>& numbers) {\n",
        "    int max_product = 0;\n",
        "    int aux_product = 0;\n",
        "    int n = numbers.size();\n",
        "\n",
        "    for (int first = 0; first < n; ++first) {\n",
        "        for (int second = 0; second < n; ++second) {\n",
        "          if ( first != second ){\n",
        "                aux_product = numbers[first] * numbers[second];\n",
        "                if (aux_product > max_product)  max_product = aux_product;\n",
        "          }\n",
        "        }\n",
        "    }\n",
        "\n",
        "    return max_product;\n",
        "}\n",
        "\n",
        "int main() {\n",
        "    int n;\n",
        "    std::cin >> n;\n",
        "    std::vector<int> numbers(n);\n",
        "    for (int i = 0; i < n; ++i) {\n",
        "        std::cin >> numbers[i];\n",
        "    }\n",
        "\n",
        "    std::cout << MaxPairwiseProduct(numbers) << \"\\n\";\n",
        "    return 0;\n",
        "}"
      ]
    },
    {
      "cell_type": "markdown",
      "metadata": {
        "id": "m75IQQPbEHBS"
      },
      "source": [
        "#### Time Complexity\n",
        "$$\\left. \\begin{array}{llc}\n",
        " \\text{INSTRUCTION} & \\text{TYPE}& \\text{# EXECUTIONS}\\\\\n",
        "\\text{first != second} &  \\text{comparisons} &n^2 \\\\\n",
        "\\text{numbers[first] * numbers[second]}& \\ \\text{ products}  &n^2 - n \\\\\n",
        "\\text{max_product = aux_product} &  \\text{assigments} & [1, \\frac{n^2 - n}{2})  \n",
        "\\end{array}\\right\\}  =  O(n^2)$$"
      ]
    },
    {
      "cell_type": "code",
      "execution_count": null,
      "metadata": {
        "id": "PCVo1h6nCF9k"
      },
      "outputs": [],
      "source": [
        "!g++ max_pairwise_product_full.cpp -o max_pairwise_product_full\n",
        "!./max_pairwise_product_full"
      ]
    },
    {
      "cell_type": "markdown",
      "metadata": {
        "id": "e7KhxHGNS3i0"
      },
      "source": [
        "### Test 1: Small numbers"
      ]
    },
    {
      "cell_type": "code",
      "execution_count": null,
      "metadata": {
        "id": "17npyXt7lYzA"
      },
      "outputs": [],
      "source": [
        "%%writefile input0.txt\n",
        "10\n",
        "0 0 0 0 0 0 0 0 0 0"
      ]
    },
    {
      "cell_type": "code",
      "execution_count": null,
      "metadata": {
        "id": "NooGEkJylezm"
      },
      "outputs": [],
      "source": [
        "%%writefile output0.txt\n",
        "0"
      ]
    },
    {
      "cell_type": "code",
      "execution_count": null,
      "metadata": {
        "id": "R0yFaAOrlqrE"
      },
      "outputs": [],
      "source": [
        "!./max_pairwise_product_full< input0.txt > ctest0.txt\n",
        "!grep -xvFf output0.txt ctest0.txt"
      ]
    },
    {
      "cell_type": "code",
      "execution_count": null,
      "metadata": {
        "id": "e1mmTzBgShT-"
      },
      "outputs": [],
      "source": [
        "%%writefile input1.txt\n",
        "10\n",
        "1 2 3 4 5 6 7 8 9 10"
      ]
    },
    {
      "cell_type": "code",
      "execution_count": null,
      "metadata": {
        "id": "vy_uI0x7TCId"
      },
      "outputs": [],
      "source": [
        "!./max_pairwise_product < input1.txt"
      ]
    },
    {
      "cell_type": "code",
      "execution_count": null,
      "metadata": {
        "id": "xaj6f9bxC6D6"
      },
      "outputs": [],
      "source": [
        "%%writefile output1.txt\n",
        "90"
      ]
    },
    {
      "cell_type": "code",
      "execution_count": null,
      "metadata": {
        "id": "fYCjAdA_C-wy"
      },
      "outputs": [],
      "source": [
        "!./max_pairwise_product_full< input1.txt > ctest1.txt\n",
        "!grep -xvFf output1.txt ctest1.txt"
      ]
    },
    {
      "cell_type": "code",
      "execution_count": null,
      "metadata": {
        "id": "ZPe40LY14_6f"
      },
      "outputs": [],
      "source": [
        "%%writefile input2.txt\n",
        "10\n",
        "10 9 8 7 6 5 4 3 2 1"
      ]
    },
    {
      "cell_type": "code",
      "execution_count": null,
      "metadata": {
        "id": "xiHmF7HA5Faa"
      },
      "outputs": [],
      "source": [
        "%%writefile output2.txt\n",
        "90"
      ]
    },
    {
      "cell_type": "code",
      "execution_count": null,
      "metadata": {
        "id": "jjwc9kwb5t_k"
      },
      "outputs": [],
      "source": [
        "!./max_pairwise_product_full< input2.txt > ctest2.txt\n",
        "!grep -xvFf output2.txt ctest2.txt"
      ]
    },
    {
      "cell_type": "markdown",
      "metadata": {
        "id": "IeZ3kTjpYmR9"
      },
      "source": [
        "### Test 2: largest input numbers 200000 200000 to check possible intger overflow"
      ]
    },
    {
      "cell_type": "code",
      "execution_count": null,
      "metadata": {
        "id": "LQNlZqaqYt7U"
      },
      "outputs": [],
      "source": [
        "%%writefile input3.txt\n",
        "6\n",
        "1 3 200000 9 200000 23"
      ]
    },
    {
      "cell_type": "code",
      "execution_count": null,
      "metadata": {
        "id": "GjQq7QOUCw-9"
      },
      "outputs": [],
      "source": [
        "200000*200000"
      ]
    },
    {
      "cell_type": "code",
      "execution_count": null,
      "metadata": {
        "id": "EuS6n3jtDK5C"
      },
      "outputs": [],
      "source": [
        "%%writefile output3.txt\n",
        "40000000000"
      ]
    },
    {
      "cell_type": "code",
      "execution_count": null,
      "metadata": {
        "id": "2Wad2VZUZDxR"
      },
      "outputs": [],
      "source": [
        "!./max_pairwise_product_full < input3.txt"
      ]
    },
    {
      "cell_type": "code",
      "execution_count": null,
      "metadata": {
        "id": "pEvp1ieyDJGq"
      },
      "outputs": [],
      "source": [
        "!./max_pairwise_product_full < input3.txt > ctest3.txt\n",
        "!grep -xvFf output3.txt ctest3.txt"
      ]
    },
    {
      "cell_type": "code",
      "execution_count": null,
      "metadata": {
        "id": "SrtJrKqM-God"
      },
      "outputs": [],
      "source": [
        " %%writefile run_all_test.sh\n",
        "#!/bin/bash\n",
        "g++ max_pairwise_product_full.cpp -o max_pairwise_product_full\n",
        "for i in {0..3}\n",
        "do\n",
        "    ./max_pairwise_product_full < input$i.txt > ctest$i.txt\n",
        "    grep -xvFf output$i.txt ctest$i.txt\n",
        "done"
      ]
    },
    {
      "cell_type": "code",
      "execution_count": null,
      "metadata": {
        "id": "wGWMHtzS-QnA"
      },
      "outputs": [],
      "source": [
        "!chmod u+x run_all_test.sh\n",
        "!./run_all_test.sh"
      ]
    },
    {
      "cell_type": "markdown",
      "metadata": {
        "id": "H2SC0Qt5HCzz"
      },
      "source": [
        "### Changing the variables to long long"
      ]
    },
    {
      "cell_type": "code",
      "execution_count": null,
      "metadata": {
        "id": "MPcmsxiQZSfE"
      },
      "outputs": [],
      "source": [
        "%%writefile max_pairwise_product_long_full.cpp\n",
        "#include <iostream>\n",
        "#include <vector>\n",
        "#include <algorithm>\n",
        "\n",
        "long long MaxPairwiseProduct(const std::vector<int>& numbers) {\n",
        "    long long max_product = 0LL;\n",
        "\t  long long aux_product = 0LL;\n",
        "    int n = numbers.size();\n",
        "\n",
        "    for (int first = 0; first < n; ++first) {\n",
        "        for (int second = 0; second < n; ++second) {\n",
        "          if ( first != second){\n",
        "                aux_product = (long long) numbers[first] * numbers[second];\n",
        "                if (aux_product > max_product)  max_product = aux_product;\n",
        "          }\n",
        "        }\n",
        "    }\n",
        "\n",
        "\n",
        "    return max_product;\n",
        "}\n",
        "\n",
        "int main() {\n",
        "    int n;\n",
        "    std::cin >> n;\n",
        "    std::vector<int> numbers(n);\n",
        "    for (int i = 0; i < n; ++i) {\n",
        "        std::cin >> numbers[i];\n",
        "    }\n",
        "\n",
        "    std::cout << MaxPairwiseProduct(numbers) << \"\\n\";\n",
        "    return 0;\n",
        "}\n"
      ]
    },
    {
      "cell_type": "code",
      "execution_count": null,
      "metadata": {
        "id": "W3xQpFXL6wjO"
      },
      "outputs": [],
      "source": [
        "!g++ max_pairwise_product_long_full.cpp -o max_pairwise_product_long_full"
      ]
    },
    {
      "cell_type": "code",
      "execution_count": null,
      "metadata": {
        "id": "H5dvN9M3R9sV"
      },
      "outputs": [],
      "source": [
        "!./max_pairwise_product_long_full < input3.txt"
      ]
    },
    {
      "cell_type": "markdown",
      "metadata": {
        "id": "gx-sEYdfQ8f8"
      },
      "source": [
        "### Runing multuple test with a bash shell"
      ]
    },
    {
      "cell_type": "code",
      "execution_count": null,
      "metadata": {
        "id": "O9qsq2nn7elw"
      },
      "outputs": [],
      "source": [
        " %%writefile run_all_test.sh\n",
        "#!/bin/bash\n",
        "g++ max_pairwise_product_long_full.cpp -o max_pairwise_product_long_full\n",
        "for i in {1..3}\n",
        "do\n",
        "    ./max_pairwise_product_long_full < input$i.txt > ctest$i.txt\n",
        "    grep -xvFf output$i.txt ctest$i.txt\n",
        "done"
      ]
    },
    {
      "cell_type": "code",
      "execution_count": null,
      "metadata": {
        "id": "0g5kKVph7xIA"
      },
      "outputs": [],
      "source": [
        "!chmod u+x run_all_test.sh\n",
        "!./run_all_test.sh"
      ]
    },
    {
      "cell_type": "markdown",
      "metadata": {
        "id": "XPVHkHxH6_7s"
      },
      "source": [
        "### Test 3  stress tests, 6 testing cases files input4.txt/output4.txt .. input10.txt/output10.txt\n",
        "\n",
        "---\n",
        "\n"
      ]
    },
    {
      "cell_type": "code",
      "execution_count": null,
      "metadata": {
        "id": "PwqpBmYr69fu"
      },
      "outputs": [],
      "source": [
        "%%writefile input3.txt\n",
        "6\n",
        "1 3001 2020 8 22 38"
      ]
    },
    {
      "cell_type": "code",
      "execution_count": null,
      "metadata": {
        "id": "jBCkMeR6Fw4y"
      },
      "outputs": [],
      "source": [
        "%%writefile input4.txt\n",
        "7\n",
        "10 437 798 101112 121415 151918 194036"
      ]
    },
    {
      "cell_type": "code",
      "execution_count": null,
      "metadata": {
        "id": "zED8V8wu-eoM"
      },
      "outputs": [],
      "source": [
        "%%writefile input5.txt\n",
        "5\n",
        "951 753 654 852 379"
      ]
    },
    {
      "cell_type": "code",
      "execution_count": null,
      "metadata": {
        "id": "oo0XvVEllf_-"
      },
      "outputs": [],
      "source": [
        "%%writefile input6.txt\n",
        "8\n",
        "902 1009 1111 1024 792 564 798 222"
      ]
    },
    {
      "cell_type": "code",
      "execution_count": null,
      "metadata": {
        "id": "vrnAjqTRli-I"
      },
      "outputs": [],
      "source": [
        "%%writefile input7.txt\n",
        "4\n",
        "741 852 963 684"
      ]
    },
    {
      "cell_type": "code",
      "execution_count": null,
      "metadata": {
        "id": "oS2QgaTultDv"
      },
      "outputs": [],
      "source": [
        "%%writefile input8.txt\n",
        "5\n",
        "176 935 378 937 210790"
      ]
    },
    {
      "cell_type": "code",
      "execution_count": null,
      "metadata": {
        "id": "B-VGJS-Wo2oW"
      },
      "outputs": [],
      "source": [
        "%%writefile input9.txt\n",
        "6\n",
        "1 3343 2003 9 2222 43"
      ]
    },
    {
      "cell_type": "code",
      "execution_count": null,
      "metadata": {
        "id": "MLKlBUElpHBd"
      },
      "outputs": [],
      "source": [
        "%%writefile input10.txt\n",
        "6\n",
        "1111 2222 3333 4444 5555 6666"
      ]
    },
    {
      "cell_type": "code",
      "execution_count": null,
      "metadata": {
        "id": "VdN9ppc6pOKM"
      },
      "outputs": [],
      "source": [
        "!./max_pairwise_product_long_full < input1.txt\n",
        "!./max_pairwise_product_long_full < input2.txt\n",
        "!./max_pairwise_product_long_full < input3.txt > output3.txt\n",
        "!./max_pairwise_product_long_full < input4.txt > output4.txt\n",
        "!./max_pairwise_product_long_full < input5.txt > output5.txt\n",
        "!./max_pairwise_product_long_full < input6.txt > output6.txt\n",
        "!./max_pairwise_product_long_full < input7.txt > output7.txt\n",
        "!./max_pairwise_product_long_full < input8.txt > output8.txt\n",
        "!./max_pairwise_product_long_full < input9.txt > output9.txt\n",
        "!./max_pairwise_product_long_full < input10.txt > output10.txt"
      ]
    },
    {
      "cell_type": "markdown",
      "metadata": {
        "id": "9z9yr5QkeyJF"
      },
      "source": [
        "### Test 4  time test  measure the execution time running with the the largest worst cases input11.txt  (200000 increasing numbers) and input12.txt (199998 increasing numbers and  200000, 200000 at the end)"
      ]
    },
    {
      "cell_type": "code",
      "execution_count": null,
      "metadata": {
        "id": "UmB1ipWM_nSk"
      },
      "outputs": [],
      "source": [
        "# input11.txt 200000 increasing numbers:  1 2 .. 200000\n",
        "\n",
        "%%writefile WriteTest.cpp\n",
        "\n",
        "#include <iostream>\n",
        "#include <fstream>\n",
        "#include <cstdlib>\n",
        "\n",
        "using namespace std;\n",
        "\n",
        "int main() {\n",
        "  // Create and open a text file\n",
        "  ofstream MyFile(\"input11.txt\");\n",
        "\n",
        " MyFile << 200000 <<\"\\n\";  // n\n",
        " for (int i=1; i <200001; i++){\n",
        "     MyFile << i <<\" \";\n",
        " }\n",
        "\n",
        "  // Close the file\n",
        "  MyFile.close();\n",
        "}"
      ]
    },
    {
      "cell_type": "code",
      "execution_count": null,
      "metadata": {
        "id": "EH25TkOkZfD9"
      },
      "outputs": [],
      "source": [
        "!g++ WriteTest.cpp -o WriteTest\n",
        "!./WriteTest"
      ]
    },
    {
      "cell_type": "code",
      "execution_count": null,
      "metadata": {
        "id": "j0mokSOnCCtZ"
      },
      "outputs": [],
      "source": [
        "199999 * 200000"
      ]
    },
    {
      "cell_type": "code",
      "execution_count": null,
      "metadata": {
        "id": "VoDhDV73B5Mo"
      },
      "outputs": [],
      "source": [
        "%%writefile output11.txt\n",
        "39999800000"
      ]
    },
    {
      "cell_type": "code",
      "execution_count": null,
      "metadata": {
        "id": "oLiMjbAIfPlX"
      },
      "outputs": [],
      "source": [
        "# input12.txt 200000 decreasing numbers and 200000, 199999 ...  2 1\n",
        "\n",
        "%%writefile WriteTest.cpp\n",
        "\n",
        "#include <iostream>\n",
        "#include <fstream>\n",
        "#include <cstdlib>\n",
        "\n",
        "using namespace std;\n",
        "\n",
        "int main() {\n",
        "  // Create and open a text file\n",
        "  ofstream MyFile(\"input12.txt\");\n",
        "\n",
        " MyFile << 200000 <<\"\\n\";  // n\n",
        " for (int i=1; i <200001; i++){\n",
        "     MyFile << 200001-i <<\" \";\n",
        " }\n",
        "\n",
        "  // Close the file\n",
        "  MyFile.close();\n",
        "}"
      ]
    },
    {
      "cell_type": "code",
      "execution_count": null,
      "metadata": {
        "id": "oULNBr_zAd9c"
      },
      "outputs": [],
      "source": [
        "!g++ WriteTest.cpp -o WriteTest\n",
        "!./WriteTest"
      ]
    },
    {
      "cell_type": "code",
      "execution_count": null,
      "metadata": {
        "id": "PQLyocaFB-y4"
      },
      "outputs": [],
      "source": [
        "%%writefile output12.txt\n",
        "39999800000"
      ]
    },
    {
      "cell_type": "markdown",
      "metadata": {
        "id": "JB6f03qO-lj9"
      },
      "source": [
        "### Measure time\n",
        "\n",
        "https://askubuntu.com/questions/53444/how-can-i-measure-the-execution-time-of-a-terminal-process"
      ]
    },
    {
      "cell_type": "code",
      "execution_count": null,
      "metadata": {
        "id": "6p2QLEr576zk"
      },
      "outputs": [],
      "source": [
        "!g++ max_pairwise_product_long_full.cpp -o max_pairwise_product_long_full\n",
        "!time ./max_pairwise_product_long_full< input11.txt"
      ]
    },
    {
      "cell_type": "code",
      "execution_count": null,
      "metadata": {
        "id": "cnjCyeUdAnZj"
      },
      "outputs": [],
      "source": [
        "!g++ max_pairwise_product_long_full.cpp -o max_pairwise_product_long_full\n",
        "!time ./max_pairwise_product_long_full< input12.txt"
      ]
    },
    {
      "cell_type": "markdown",
      "metadata": {
        "id": "FXClpBsUJuXC"
      },
      "source": [
        "### Calculate the number or and upper bound to the number of instructions executed by the algorithm as a function of n, add in each line a comment with the number of instructions that are executed in that line."
      ]
    },
    {
      "cell_type": "code",
      "execution_count": null,
      "metadata": {
        "id": "uG6Mv-Pwlkii"
      },
      "outputs": [],
      "source": [
        "%%writefile max_pairwise_product_long_full.cpp\n",
        "#include <iostream>\n",
        "#include <vector>\n",
        "#include <algorithm>\n",
        "\n",
        "long long MaxPairwiseProduct(const std::vector<int>& numbers) {              //INSTRUCTIONS executed by line\n",
        "    long long max_product = 0LL;                                             //1\n",
        "\t  long long aux_product = 0LL;                                             //1\n",
        "    int n = numbers.size();                                                  //1\n",
        "\n",
        "    for (int first = 0; first < n; ++first) {                                //2+2n\n",
        "        for (int second = 0; second < n; ++second) {                         //2n + 2n**2\n",
        "          if ( first != second ){                                            //n**2\n",
        "                aux_product = numbers[first] * numbers[second];              //n**2 -n\n",
        "                if (aux_product > max_product)                               //n**2 -n\n",
        "                    max_product = aux_product;                               //[0, n**2/2 - n/2] upper bound\n",
        "          }\n",
        "        }\n",
        "    }\n",
        "\n",
        "                                                                             // --------------\n",
        "    return max_product;                                                      // 5 + 2*n + [5*n**2, 11*n**2/2  - n/2]  upper bound\n",
        "}\n",
        "\n",
        "int main() {                                              //INSTRUCTIONS executed by line\n",
        "    int n;                                                //1\n",
        "    std::cin >> n;                                        //1\n",
        "    std::vector<int> numbers(n);                          //n\n",
        "    for (int i = 0; i < n; ++i) {                         //2 + 2n\n",
        "        std::cin >> numbers[i];                           //n\n",
        "    }\n",
        "\n",
        "    std::cout << MaxPairwiseProduct(numbers) << \"\\n\";     //1 + 1  + 5 + 2*n + [5*n**2, 11*n**2/2  - n/2]\n",
        "\n",
        "    return 0;                                             // --------------\n",
        "}                                                         //  11 + 6*n + [5*n**2, 11*n**2/2  - n/2]  upper bound\n"
      ]
    },
    {
      "cell_type": "markdown",
      "metadata": {
        "id": "0vTsUg8OwcHs"
      },
      "source": [
        "### Count executed intructions in code"
      ]
    },
    {
      "cell_type": "code",
      "execution_count": null,
      "metadata": {
        "id": "CuRKkqQc137V"
      },
      "outputs": [],
      "source": [
        "%%writefile max_pairwise_product_long_full_execints.cpp\n",
        "#include <iostream>\n",
        "#include <vector>\n",
        "#include <algorithm>\n",
        "\n",
        "long long MaxPairwiseProduct(const std::vector<int>& numbers, long long &execints) {      //INSTRUCTIONS executed by line\n",
        "\n",
        "    long long max_product = 0LL;                                                          //1\n",
        "    execints++;\n",
        "\n",
        "\t  long long aux_product = 0LL;                                                          //1\n",
        "    execints++;\n",
        "\n",
        "    int n = numbers.size();                                                               //1\n",
        "    execints++;\n",
        "\n",
        "    execints++;\n",
        "    for (int first = 0; first < n; ++first) {                                             //2+2n\n",
        "        execints += 2;\n",
        "\n",
        "        execints++;\n",
        "        for (int second = 0; second < n; ++second) {                                       //2n + 2n**2\n",
        "          execints += 2;\n",
        "\n",
        "          execints++;\n",
        "          if ( first != second ){                                                         //n**2\n",
        "                aux_product = numbers[first] * numbers[second];                           //n**2 -n\n",
        "                execints++;\n",
        "\n",
        "                execints++;\n",
        "                if (aux_product > max_product){                                           //n**2 -n\n",
        "                    max_product = aux_product;                                            //[0,n**2/2 - n/2)  upper bound\n",
        "                    execints++;\n",
        "\n",
        "                }\n",
        "        }\n",
        "\n",
        "      }\n",
        "      execints++;\n",
        "    }\n",
        "    execints++;\n",
        "                                                                                        // --------------\n",
        "    return max_product;                                                                 // 5 + 2*n + [5*n**2, 11*n**2/2  - n/2] upper bound\n",
        "}\n",
        "\n",
        "int main() {                                                 //INSTRUCTIONS executed by line\n",
        "\n",
        "    long long execints =0LL;\n",
        "\n",
        "    int n;                                                   //1\n",
        "    execints++;\n",
        "\n",
        "    std::cin >> n;                                           //1\n",
        "    execints++;\n",
        "\n",
        "    std::vector<int> numbers(n);                             //n\n",
        "    execints += n;\n",
        "\n",
        "    execints++;\n",
        "    for (int i = 0; i < n; ++i) {                            //2 + 2n\n",
        "        execints += 2;\n",
        "\n",
        "        std::cin >> numbers[i];\n",
        "        execints++;                                          //n\n",
        "\n",
        "    }\n",
        "\n",
        "\n",
        "    //std::cout << MaxPairwiseProduct(numbers) << \"\\n\";      //1 + 1  + 5 + 2*n + [5*n**2, 11*n**2/2  - n/2] upper bound\n",
        "\n",
        "    execints++;\n",
        "    int M = MaxPairwiseProduct(numbers,execints);\n",
        "\n",
        "    execints++;\n",
        "    std::cout <<  execints << \"\\n\";\n",
        "    return 0;                                                // --------------\n",
        "}                                                            // 11 + 6*n + [5*n**2, 11*n**2/2  - n/2]"
      ]
    },
    {
      "cell_type": "markdown",
      "metadata": {
        "id": "cUjHtvtdDsmr"
      },
      "source": [
        "The number of instructions executed by the algooirithm with a list of size $n$ is  \n",
        "\n",
        "$$T (n) = 11 + 6n + \\left[5n^2, 11\\frac{n^2}{2}  - \\frac{n}{2}\\right)  >  6n^2 = O(n^2)$$\n",
        "\n",
        "It depends on the size of the lists and  the order of the list.\n",
        "\n",
        "For the input0.txt\n",
        "```\n",
        "10\n",
        "0 0 0 0 0 0 0 0 0 0\n",
        "```\n",
        "$$T = 11 + 6(10) + 5(10)^2   = 561 $$\n",
        "\n",
        "$$T(10) \\in [571, 621)  $$\n"
      ]
    },
    {
      "cell_type": "code",
      "execution_count": null,
      "metadata": {
        "id": "Om9Fevb0miAT"
      },
      "outputs": [],
      "source": [
        "!g++ max_pairwise_product_long_full_execints.cpp -o max_pairwise_product_long_full_execints\n",
        "!./max_pairwise_product_long_full_execints < input0.txt"
      ]
    },
    {
      "cell_type": "markdown",
      "metadata": {
        "id": "FwJzZ6VzmArY"
      },
      "source": [
        "For the input1.txt\n",
        "```\n",
        "10\n",
        "1 2 3 4 5 6 7 8 9 10\n",
        "```\n",
        "$$T = 11 + 6(10) + 5(10)^2 +  9 + 5 + 4 + 3 + 2 + 2 + 2 + 2 + 1 + 0  = 601 $$\n",
        "\n",
        "$$T(10) \\in [572, 622)  $$\n"
      ]
    },
    {
      "cell_type": "code",
      "execution_count": null,
      "metadata": {
        "id": "K59xQMWiBNFj"
      },
      "outputs": [],
      "source": [
        "#The number of times that  max_product = aux_product; in the worst case is less than (n**2 -n)/2 -  upper bound\n",
        "\n",
        "#     1  2  3  4  5  6  7  8  9  10\n",
        "#  1  x  2  3  4  5  6  7  8  9  10         9\n",
        "#  2  2  x  6  8  10 12 14 16 18 20         5 14\n",
        "#  3  3  6  x  12 15 18 21 24 27 30         4 18\n",
        "#  4  4  8  12 x  20 24 28 32 36 40         3 21\n",
        "#  5  5  10 15 20 x  30 35 40 45 50         2 23\n",
        "#  6  6  12 18 24 30 x  42 48 54 60         2 25\n",
        "#  7  7  14 21 28 35 42 x  56 63 70         2 27\n",
        "#  8  8  18 27 36 45 54 63 72 x  90         1 30\n",
        "#  10 10 20 30 40 50 60 70 60 90 x          0"
      ]
    },
    {
      "cell_type": "code",
      "execution_count": null,
      "metadata": {
        "id": "E3O8dzFfEgir"
      },
      "outputs": [],
      "source": [
        "11 + 6*(10) + 5*(10)*(10) +  9 + 5 + 4 + 3 + 2 + 2 + 2 + 2 + 1 + 0"
      ]
    },
    {
      "cell_type": "code",
      "execution_count": null,
      "metadata": {
        "id": "TCpdl5u_Gq1a"
      },
      "outputs": [],
      "source": [
        "n = 10\n",
        "print( \"[\", 11 + 6*n + 5*n**2,  \",\", 11 + 6*n  + 5.5*n**2, \")\")"
      ]
    },
    {
      "cell_type": "code",
      "execution_count": null,
      "metadata": {
        "id": "Kuvm1C05ly2a"
      },
      "outputs": [],
      "source": [
        "!g++ max_pairwise_product_long_full_execints.cpp -o max_pairwise_product_long_full_execints\n",
        "!./max_pairwise_product_long_full_execints < input1.txt"
      ]
    },
    {
      "cell_type": "markdown",
      "metadata": {
        "id": "Yr_Lb7CaHfxB"
      },
      "source": [
        "\n",
        "For the input2.txt\n",
        "```\n",
        "10\n",
        "10 9 8 7 6 5 4 3 2 1\n",
        "```\n",
        "$$T = 11 + 6*(10) + 5*(10)**2 +  1  = 571 $$"
      ]
    },
    {
      "cell_type": "code",
      "execution_count": null,
      "metadata": {
        "id": "HOdqlwJiZUIp"
      },
      "outputs": [],
      "source": [
        "11 + 6*(10) + 5*(10)**2 +  1"
      ]
    },
    {
      "cell_type": "code",
      "execution_count": null,
      "metadata": {
        "id": "_znzLectjFSe"
      },
      "outputs": [],
      "source": [
        "!g++ max_pairwise_product_long_full_execints.cpp -o max_pairwise_product_long_full_execints\n",
        "!./max_pairwise_product_long_full_execints < input2.txt"
      ]
    },
    {
      "cell_type": "markdown",
      "metadata": {
        "id": "NXW7QkoBL6xH"
      },
      "source": [
        "Calculate estimated time by instruction and number of instructions by second"
      ]
    },
    {
      "cell_type": "markdown",
      "metadata": {
        "id": "dlyRjaohz-YH"
      },
      "source": [
        "For the input11.txt\n",
        "```\n",
        "200000\n",
        "1 2 ..  199999 2000\n",
        "```\n",
        "$$T = 11 + 6*(200000) + 5.5*(200000)**2  = 200001200012  $$"
      ]
    },
    {
      "cell_type": "code",
      "execution_count": null,
      "metadata": {
        "id": "cuZe7fXwuQtO"
      },
      "outputs": [],
      "source": [
        "9 + 5*(200000) + 5*(200000)**2 +1"
      ]
    },
    {
      "cell_type": "code",
      "execution_count": null,
      "metadata": {
        "id": "BMH8mF3EKn2w"
      },
      "outputs": [],
      "source": [
        "!g++ max_pairwise_product_long_full_execints.cpp -o max_pairwise_product_long_full_execints\n",
        "!./max_pairwise_product_long_full_execints < input11.txt"
      ]
    },
    {
      "cell_type": "code",
      "execution_count": null,
      "metadata": {
        "id": "pKqB3i7dIxnc"
      },
      "outputs": [],
      "source": [
        "# Estimated time by instruction\n",
        "\n",
        "295/200003177091\n"
      ]
    },
    {
      "cell_type": "code",
      "execution_count": null,
      "metadata": {
        "id": "18N1ouqeMhE1"
      },
      "outputs": [],
      "source": [
        "# Estimated number of instructions by second\n",
        "\n",
        "200003177091/295"
      ]
    },
    {
      "cell_type": "markdown",
      "metadata": {
        "id": "KyuxejFkL5X_"
      },
      "source": [
        "### Estimate and verify the maximun n that can be solved in 1 second\n",
        "\n",
        "$$(5.5n^2 + 5.5n + 11) \\times 1.47*10^{-9} s = 1 s$$\n",
        "\n",
        "$$ n \\approx 11000$$\n"
      ]
    },
    {
      "cell_type": "code",
      "execution_count": null,
      "metadata": {
        "id": "WXu5jp-DLTOI"
      },
      "outputs": [],
      "source": [
        "# Verify input13.txt\n",
        "%%writefile WriteTest.cpp\n",
        "\n",
        "#include <iostream>\n",
        "#include <fstream>\n",
        "#include <cstdlib>\n",
        "\n",
        "using namespace std;\n",
        "\n",
        "int main() {\n",
        "  // Create and open a text file\n",
        "  ofstream MyFile(\"input13.txt\");\n",
        "\n",
        " MyFile << 11000 <<\"\\n\";  // n\n",
        " for (int i=1; i <11001; i++){\n",
        "     MyFile << i <<\" \";\n",
        " }\n",
        "\n",
        "  // Close the file\n",
        "  MyFile.close();\n",
        "}"
      ]
    },
    {
      "cell_type": "code",
      "execution_count": null,
      "metadata": {
        "id": "AQ8N52pUMCeT"
      },
      "outputs": [],
      "source": [
        "!g++ WriteTest.cpp -o WriteTest\n",
        "!./WriteTest"
      ]
    },
    {
      "cell_type": "code",
      "execution_count": null,
      "metadata": {
        "id": "2iIOdbTrEtBx"
      },
      "outputs": [],
      "source": [
        "10999 * 11000"
      ]
    },
    {
      "cell_type": "code",
      "execution_count": null,
      "metadata": {
        "id": "ussuAokfM2du"
      },
      "outputs": [],
      "source": [
        "!g++ max_pairwise_product_long_full.cpp -o max_pairwise_product_long_full\n",
        "!time ./max_pairwise_product_long_full< input13.txt"
      ]
    },
    {
      "cell_type": "markdown",
      "metadata": {
        "id": "Tm_AVmt-QQH4"
      },
      "source": [
        "## Python"
      ]
    },
    {
      "cell_type": "code",
      "execution_count": null,
      "metadata": {
        "id": "gRCCcd7IQTKZ"
      },
      "outputs": [],
      "source": [
        "%%writefile max_pairwise_product_full.py\n",
        "n = int(input())                        #1\n",
        "list = input().split()                  #1\n",
        "list = [int(x) for x in list]           #n\n",
        "\n",
        "maxProduct = 0                          #1\n",
        "auxProduct = 0                          #1\n",
        "for i in range(0,n):                    #1+2n\n",
        "  for j in range(0,n):                #n+2n^2\n",
        "    if i!=j:                            #n^2\n",
        "      auxProduct = list[i]*list[j]      #n^2 -n\n",
        "    if maxProduct < auxProduct:         #n**2 -n\n",
        "      maxProduct = auxProduct           #[1, n^2/2 - n/2] upper bound\n",
        "\n",
        "                                        # --------------\n",
        "print(maxProduct)                       #5 + 3n + [5*n^2+1, 11*n^2/2  - n/2]  upper bound"
      ]
    },
    {
      "cell_type": "markdown",
      "metadata": {
        "id": "pHsFl3Xyv-Ah"
      },
      "source": [
        "PROBAR CON ENTRADAS DE ARCHIVOS DE TEXTO ANTERIORES"
      ]
    },
    {
      "cell_type": "code",
      "execution_count": null,
      "metadata": {
        "id": "7o-qeYSXv7f4"
      },
      "outputs": [],
      "source": [
        "!chmod +x max_pairwise_product_full.py\n",
        "\n",
        "!python max_pairwise_product_full.py < input3.txt > output3.txt\n",
        "!python max_pairwise_product_full.py < input4.txt > output4.txt\n",
        "!python max_pairwise_product_full.py < input5.txt > output5.txt\n",
        "!python max_pairwise_product_full.py < input6.txt > output6.txt\n",
        "!python max_pairwise_product_full.py < input7.txt > output7.txt\n",
        "!python max_pairwise_product_full.py < input8.txt > output8.txt\n",
        "!python max_pairwise_product_full.py < input9.txt > output9.txt\n",
        "!python max_pairwise_product_full.py < input10.txt > output10.txt"
      ]
    },
    {
      "cell_type": "markdown",
      "metadata": {
        "id": "JlsPNDPDxLBV"
      },
      "source": [
        "CREAR UN ARCHIVO DE ENTRADA CONSIDERABLEMENTE GRANDE\n",
        "\n",
        "\n",
        "\n"
      ]
    },
    {
      "cell_type": "code",
      "execution_count": null,
      "metadata": {
        "id": "kAEAoNZEQTCw"
      },
      "outputs": [],
      "source": [
        "fileName = \"input13Py.txt\"\n",
        "\n",
        "with open(fileName, \"w\") as file:\n",
        "    file.write(\"20000\"+ \"\\n\")\n",
        "    for i in range(1,20001):\n",
        "        file.write(str(i) + \" \")"
      ]
    },
    {
      "cell_type": "markdown",
      "metadata": {
        "id": "YsA_EWnHxVdW"
      },
      "source": [
        "MEDIR EL TIEMPO"
      ]
    },
    {
      "cell_type": "code",
      "execution_count": null,
      "metadata": {
        "id": "hjw7TJrDL0d-"
      },
      "outputs": [],
      "source": [
        "import time\n",
        "\n",
        "start_time = time.time()\n",
        "!python max_pairwise_product_full.py < input13Py.txt\n",
        "\n",
        "end_time = time.time()\n",
        "execution_time = end_time - start_time\n",
        "print(f\"Tiempo de ejecución en segundos: {execution_time}\")\n",
        "print(f\"Tiempo de ejecución en minutos: {execution_time/60}\")"
      ]
    },
    {
      "cell_type": "markdown",
      "metadata": {
        "id": "HhvacpkM3x8p"
      },
      "source": [
        "CONTAR NUMERO DE PASOS"
      ]
    },
    {
      "cell_type": "code",
      "execution_count": null,
      "metadata": {
        "id": "a3IhQd1_3xV0"
      },
      "outputs": [],
      "source": [
        "%%writefile max_pairwise_product_full_count.py\n",
        "contador_instrucciones = 0\n",
        "cantidad_numeros = int(input())                        #1\n",
        "contador_instrucciones += 1\n",
        "lista_numeros = input().split()                        #1\n",
        "contador_instrucciones += 1\n",
        "lista_numeros = [int(x) for x in lista_numeros]        #n\n",
        "contador_instrucciones += cantidad_numeros\n",
        "\n",
        "producto_maximo = 0                                   #1\n",
        "contador_instrucciones += 1\n",
        "producto_auxiliar = 0                                 #1\n",
        "contador_instrucciones += 1\n",
        "for i in range(0, cantidad_numeros):                  #1+2n\n",
        "  contador_instrucciones += 1\n",
        "  contador_instrucciones += 2\n",
        "  for j in range(0, cantidad_numeros):                #n + 2n^2\n",
        "    contador_instrucciones += 2\n",
        "    contador_instrucciones += 1\n",
        "    if i != j:                                        #n^2\n",
        "      producto_auxiliar = lista_numeros[i]*lista_numeros[j]      #n^2 -n\n",
        "      contador_instrucciones += 1\n",
        "      contador_instrucciones += 1\n",
        "    if producto_maximo < producto_auxiliar:           #n^2 -n\n",
        "      producto_maximo = producto_auxiliar             #n * (n - 1) / 3\n",
        "      contador_instrucciones += 1\n",
        "\n",
        "print(\"Resultado: \"+str(producto_maximo))\n",
        "print(\"Número de instrucciones: \"+str(contador_instrucciones))  #5 + 3n + 3n^2 + 2(n^2 -n)+n * (n - 1) / 3\n"
      ]
    },
    {
      "cell_type": "markdown",
      "metadata": {
        "id": "xsJWKNhZEhPf"
      },
      "source": [
        "El número de instrucciones ejecutadas por el algoritmo con una lista de tamaño n es:\n",
        "\n",
        "$$T = 5 + 2n +5( n^{2}) +(n (n - 1) / 3)$$\n",
        "\n",
        "Depende del tamaño de las listas y el orden de la lista.\n",
        "Para el siguiente archivo input1.txt\n",
        "\n",
        "```\n",
        "10\n",
        "1 2 3 4 5 6 7 8 9 10\n",
        "```\n",
        "$$T = 5 + (20) + 5(10)(10) +  90/3= 555$$\n"
      ]
    },
    {
      "cell_type": "code",
      "execution_count": null,
      "metadata": {
        "id": "LP_ItA-0GtGr"
      },
      "outputs": [],
      "source": [
        "!python max_pairwise_product_full_count.py < input1.txt"
      ]
    },
    {
      "cell_type": "markdown",
      "metadata": {
        "id": "pyMe-eiDGsfZ"
      },
      "source": [
        "Depende del tamaño de las listas y el orden de la lista.\n",
        "Entonces para input13Py.txt:\n",
        "\n",
        "$$T = 5 + (60000) + 3(20000)(20000) + 2(20000)(20000)-20000 + 199990/3= 2000106668$$"
      ]
    },
    {
      "cell_type": "code",
      "execution_count": null,
      "metadata": {
        "colab": {
          "background_save": true
        },
        "id": "caSP_9XrJBW3"
      },
      "outputs": [],
      "source": [
        "!python max_pairwise_product_full_count.py < input13Py.txt"
      ]
    },
    {
      "cell_type": "markdown",
      "metadata": {
        "id": "ec2CFieMKJp8"
      },
      "source": [
        "Calcular el tiempo estimado por instrucción y el número de instrucciones por segundo"
      ]
    },
    {
      "cell_type": "code",
      "execution_count": null,
      "metadata": {
        "colab": {
          "background_save": true
        },
        "id": "5fSS1IpWY1Gm"
      },
      "outputs": [],
      "source": [
        "%%time\n",
        "!g++ max_pairwise_product_long_full_execints.cpp -o max_pairwise_product_long_full_execints\n",
        "!./max_pairwise_product_long_full_execints < input1.txt"
      ]
    },
    {
      "cell_type": "code",
      "execution_count": null,
      "metadata": {
        "colab": {
          "background_save": true
        },
        "id": "YfuIkoxJZGEc"
      },
      "outputs": [],
      "source": [
        "%%time\n",
        "!python max_pairwise_product_full_count.py < input1.txt"
      ]
    },
    {
      "cell_type": "code",
      "execution_count": null,
      "metadata": {
        "colab": {
          "background_save": true
        },
        "id": "aq31HVzZZhkI"
      },
      "outputs": [],
      "source": [
        "tiempo_por_instruccion = 0.0131 / 600\n",
        "instrucciones_por_segundo = 1 / tiempo_por_instruccion\n",
        "print(f\"Tiempo por instrucción C++: {tiempo_por_instruccion}\")\n",
        "print(f\"Instrucciones por segundo C++: {instrucciones_por_segundo}\")\n",
        "tiempo_por_instruccion = 0.00373 / 554\n",
        "instrucciones_por_segundo = 1 / tiempo_por_instruccion\n",
        "print(f\"Tiempo por instrucción Python: {tiempo_por_instruccion}\")\n",
        "print(f\"Instrucciones por segundo Python: {instrucciones_por_segundo}\")\n"
      ]
    },
    {
      "cell_type": "markdown",
      "metadata": {
        "id": "1EpIR-Z_aAXG"
      },
      "source": [
        "##Si reemplazamos T en las ecuaciones anteriores, tenemos:\n",
        "\n",
        "Máximo n que el programa C++ puede resolver en un segundo: 75.8\n",
        "\n",
        "Máximo n que el programa Python puede resolver en un segundo: 124.51"
      ]
    },
    {
      "cell_type": "markdown",
      "metadata": {
        "id": "fEZR-3V4ZjCv"
      },
      "source": [
        "# For the following solutions required  the same tests and analysis performed for the first solution"
      ]
    },
    {
      "cell_type": "markdown",
      "metadata": {
        "id": "MKQKSC-vKePK"
      },
      "source": [
        "## Solutions in C++ and Python that uses\n",
        "$$\\frac{n^2 - n}{2} = O(n^2)\\ \\ \\text{products}$$"
      ]
    },
    {
      "cell_type": "code",
      "execution_count": null,
      "metadata": {
        "colab": {
          "background_save": true
        },
        "id": "jkkHHoxSK65p"
      },
      "outputs": [],
      "source": [
        "%%writefile max_pairwise_product.cpp\n",
        "#include <iostream>\n",
        "#include <vector>\n",
        "#include <algorithm>\n",
        "\n",
        "int MaxPairwiseProduct(const std::vector<int>& numbers) {\n",
        "    int max_product = 0;\n",
        "    int n = numbers.size();\n",
        "\n",
        "    for (int first = 0; first < n; ++first) {\n",
        "        for (int second = first + 1; second < n; ++second) {\n",
        "            max_product = std::max(max_product,\n",
        "                numbers[first] * numbers[second]);\n",
        "        }\n",
        "    }\n",
        "\n",
        "    return max_product;\n",
        "}\n",
        "\n",
        "int main() {\n",
        "    int n;\n",
        "    std::cin >> n;\n",
        "    std::vector<int> numbers(n);\n",
        "    for (int i = 0; i < n; ++i) {\n",
        "        std::cin >> numbers[i];\n",
        "    }\n",
        "\n",
        "    std::cout << MaxPairwiseProduct(numbers) << \"\\n\";\n",
        "    return 0;\n",
        "}"
      ]
    },
    {
      "cell_type": "code",
      "execution_count": null,
      "metadata": {
        "colab": {
          "background_save": true
        },
        "id": "RENEB7FnaVWt"
      },
      "outputs": [],
      "source": [
        "!g++ max_pairwise_product.cpp -o max_pairwise_product\n",
        "!time ./max_pairwise_product< input12.txt"
      ]
    },
    {
      "cell_type": "code",
      "execution_count": null,
      "metadata": {
        "colab": {
          "background_save": true
        },
        "id": "sU8-Ote7K8vz"
      },
      "outputs": [],
      "source": [
        "%%writefile max_pairwise_product_long.cpp\n",
        "#include <iostream>\n",
        "#include <vector>\n",
        "#include <algorithm>\n",
        "\n",
        "long long MaxPairwiseProduct(const std::vector<int>& numbers) {              //INSTRUCTIONS executed by line\n",
        "    long long max_product = 0LL;                                             //1\n",
        "\t  long long aux_product = 0LL;                                             //1\n",
        "    int n = numbers.size();                                                  //1\n",
        "\n",
        "    for (int first = 0; first < n; ++first) {                                //2+2n\n",
        "        for (int second = first + 1; second < n; ++second) {                 //2n + (n-1)n\n",
        "\t\t\t       aux_product =  (long long) numbers[first] * numbers[second];    //(n-1)n/2\n",
        "            if (max_product < aux_product)  {                                //(n-1)n/2\n",
        "\t\t\t\t        max_product = aux_product;                                   //[1,(n-1)n/2)  upper bound\n",
        "             }\n",
        "        }\n",
        "    }\n",
        "                                                                             // --------------\n",
        "    return max_product;                                                      // 5 + 4n + [2(n-1)n+1, 2.5 (n-1)n) upper bound\n",
        "}\n",
        "\n",
        "int main() {                                              //INSTRUCTIONS executed by line\n",
        "    int n;                                                //1\n",
        "    std::cin >> n;                                        //1\n",
        "    std::vector<int> numbers(n);                          //n\n",
        "    for (int i = 0; i < n; ++i) {                         //2 + 2n\n",
        "        std::cin >> numbers[i];                           //n\n",
        "    }\n",
        "\n",
        "    std::cout << MaxPairwiseProduct(numbers) << \"\\n\";     //1 + 1  + 5 + 4n + [2(n-1)n+1, 2.5 (n-1)n) upper bound\n",
        "    return 0;                                             // --------------\n",
        "}                                                         // 11 + 7n + [2(n-1)n+1, 2.5 (n-1)n) upper bound\n"
      ]
    },
    {
      "cell_type": "markdown",
      "metadata": {
        "id": "K1yy1nqYa5_i"
      },
      "source": [
        "El algoritmo ejecuta un número de instrucciones\n",
        "$$T (n) = 9 + 7n + \\left[2(n-1), 2.5(n-1)n\\right] \\ \\  $$\n",
        "\n",
        "Dependiendo del tamaño y orden de la lista.\n",
        "Para el archivo input1.txt con una lista de 10 elementos ordenados:\n",
        "\n",
        "$$T(10) \\in [97, 304]  $$\n"
      ]
    },
    {
      "cell_type": "code",
      "execution_count": null,
      "metadata": {
        "colab": {
          "background_save": true
        },
        "id": "5QWT3fneK8nw"
      },
      "outputs": [],
      "source": [
        "n = 10\n",
        "print(9 + 7*10+2*(n-1),9 + 7*10+2.5*(n-1)*n)"
      ]
    },
    {
      "cell_type": "code",
      "execution_count": null,
      "metadata": {
        "colab": {
          "background_save": true
        },
        "id": "mxIVvm1RK8dB"
      },
      "outputs": [],
      "source": [
        "!g++ max_pairwise_product_long.cpp -o max_pairwise_product_long\n",
        "!./max_pairwise_product_long < input1.txt"
      ]
    },
    {
      "cell_type": "markdown",
      "metadata": {
        "id": "FbcknK_vdqx1"
      },
      "source": [
        "###Se continua en inglés debido a diferencias creativas\n"
      ]
    },
    {
      "cell_type": "markdown",
      "metadata": {
        "id": "TQaBwb7TOOLH"
      },
      "source": [
        "[texto del enlace](https://)### Now, in Python"
      ]
    },
    {
      "cell_type": "code",
      "execution_count": null,
      "metadata": {
        "colab": {
          "background_save": true
        },
        "id": "xEylLmfcdMf3"
      },
      "outputs": [],
      "source": [
        "%%writefile max_pairwise_product.py\n",
        "n = int(input())                        #1\n",
        "list = input().split()                  #1\n",
        "list = [int(x) for x in list]           #n\n",
        "\n",
        "maxProduct = 0                          #1\n",
        "auxProduct = 0                          #1\n",
        "for i in range(0,n):                    #1+2n\n",
        "  for j in range(i+1,n):                #((n**2)-n)/2\n",
        "    if i!=j:                            #((n**2)-n)/2\n",
        "      auxProduct = list[i]*list[j]      #((n**2)-n)/2\n",
        "    if maxProduct < auxProduct:         #((n**2)-n)/2\n",
        "      maxProduct = auxProduct           #[0,((n**2)-n)/2] upper bound\n",
        "\n",
        "                                        # --------------\n",
        "print(maxProduct)                       #5 + n + [5*n**2+1, 11*n**2/2  - n/2]  upper bound"
      ]
    },
    {
      "cell_type": "markdown",
      "metadata": {
        "id": "wgd982wt1QnU"
      },
      "source": [
        "Testing with previous txts"
      ]
    },
    {
      "cell_type": "code",
      "execution_count": null,
      "metadata": {
        "colab": {
          "background_save": true
        },
        "id": "1aOmF2f9dMf4"
      },
      "outputs": [],
      "source": [
        "!chmod +x max_pairwise_product_py\n",
        "\n",
        "!python max_pairwise_product.py < input3.txt > output3.txt\n",
        "!python max_pairwise_product.py < input4.txt > output4.txt\n",
        "!python max_pairwise_product.py < input5.txt > output5.txt\n",
        "!python max_pairwise_product.py < input6.txt > output6.txt\n",
        "!python max_pairwise_product.py < input7.txt > output7.txt\n",
        "!python max_pairwise_product.py < input8.txt > output8.txt\n",
        "!python max_pairwise_product.py < input9.txt > output9.txt\n",
        "!python max_pairwise_product.py < input10.txt > output10.txt"
      ]
    },
    {
      "cell_type": "code",
      "execution_count": null,
      "metadata": {
        "colab": {
          "background_save": true
        },
        "id": "_KhsFM1r4DzQ"
      },
      "outputs": [],
      "source": [
        "import time\n",
        "\n",
        "start_time = time.time()\n",
        "!python max_pairwise_product.py < inputPy.txt\n",
        "\n",
        "end_time = time.time()\n",
        "execution_time = end_time - start_time\n",
        "print(f\"Tiempo de ejecución en segundos: {execution_time}\")\n",
        "print(f\"Tiempo de ejecución en minutos: {execution_time/60}\")"
      ]
    },
    {
      "cell_type": "markdown",
      "metadata": {
        "id": "bzvlXQ_ORo64"
      },
      "source": [
        "Program to count the number of steps it takes"
      ]
    },
    {
      "cell_type": "code",
      "execution_count": null,
      "metadata": {
        "colab": {
          "background_save": true
        },
        "id": "eSZ-gVLmGAO4"
      },
      "outputs": [],
      "source": [
        "%%writefile max_pairwise_product_count.py\n",
        "op = 0\n",
        "xd =0\n",
        "n = int(input())                        #1\n",
        "op+=1\n",
        "list = input().split()                  #1\n",
        "op+=1\n",
        "list = [int(x) for x in list]           #n\n",
        "op += n\n",
        "\n",
        "maxProduct = 0                          #1\n",
        "op+=1\n",
        "auxProduct = 0                          #1\n",
        "op+=1\n",
        "for i in range(0,n):                    #1+2n\n",
        "  op+=1\n",
        "  op+=2\n",
        "  for j in range(i+1,n):                #((n**2)-n)/2\n",
        "    op+=1\n",
        "    if i!=j:                            #((n**2)-n)/2\n",
        "      auxProduct = list[i]*list[j]      #((n**2)-n)/2\n",
        "      op+=1\n",
        "      op+=1\n",
        "    op+=1\n",
        "    if maxProduct < auxProduct:         #n * (n - 1) / 2\n",
        "      maxProduct = auxProduct           #n * (n - 1) / 3\n",
        "      op+=1\n",
        "\n",
        "                                        # --------------For worst case\n",
        "print(\"Result: \"+str(maxProduct))\n",
        "print(\"Number of instructions: \"+str(op))                       #5 + 4n +2( n * (n - 1)) + (n * (n - 1) / 3)"
      ]
    },
    {
      "cell_type": "markdown",
      "metadata": {
        "id": "ItdeBnys70Di"
      },
      "source": [
        "The number of instructions executed by the algorithm with a list of size $n$ is  \n",
        "\n",
        "$$T = 5 + 4n +2( n(n - 1)) + (n (n - 1) / 3)$$\n",
        "\n",
        "It depends on the size of the lists and  the order of the list.\n",
        "\n",
        "For the input1.txt\n",
        "```\n",
        "10\n",
        "1 2 3 4 5 6 7 8 9 10\n",
        "```\n",
        "$$T = 5 + (40) + 2(10)(9) + (90)/3  = 259$$\n",
        "\n"
      ]
    },
    {
      "cell_type": "code",
      "execution_count": null,
      "metadata": {
        "colab": {
          "background_save": true
        },
        "id": "x6uB8hd_HXxr"
      },
      "outputs": [],
      "source": [
        "!python max_pairwise_product_count.py < input1.txt"
      ]
    },
    {
      "cell_type": "markdown",
      "metadata": {
        "id": "PTeEhcaQMc7C"
      },
      "source": [
        "For a big input"
      ]
    },
    {
      "cell_type": "markdown",
      "metadata": {
        "id": "UrfyF8NhMs2o"
      },
      "source": [
        "The number of instructions executed by the algooirithm with a list of size $n$ is  \n",
        "\n",
        "$$T = 5 + 4n +2( n(n - 1)) + (n (n - 1) / 3)$$\n",
        "\n",
        "It depends on the size of the lists and  the order of the list.\n",
        "\n",
        "For the input13Py.txt with 20000 numbers\n",
        "\n",
        "$$T = 5 + (80000) + 2(20000)(19999) + (199990)/3  = 800106668$$\n",
        "\n"
      ]
    },
    {
      "cell_type": "code",
      "execution_count": null,
      "metadata": {
        "colab": {
          "background_save": true
        },
        "id": "yaMn0VgJMfx5"
      },
      "outputs": [],
      "source": [
        "!python max_pairwise_product_count.py < input13Py.txt"
      ]
    },
    {
      "cell_type": "markdown",
      "metadata": {
        "id": "e0cgkVJUZE2n"
      },
      "source": [
        "###Calculate estimated time by instruction and number of instructions by second"
      ]
    },
    {
      "cell_type": "code",
      "execution_count": null,
      "metadata": {
        "colab": {
          "background_save": true
        },
        "id": "r26O09mlZcxp"
      },
      "outputs": [],
      "source": [
        "%%time\n",
        "!g++ max_pairwise_product_long_count.cpp -o max_pairwise_product_long_count\n",
        "!./max_pairwise_product_long_count < input1.txt"
      ]
    },
    {
      "cell_type": "code",
      "execution_count": null,
      "metadata": {
        "colab": {
          "background_save": true
        },
        "id": "1iRLUvKBZ0SP"
      },
      "outputs": [],
      "source": [
        "%%time\n",
        "!python max_pairwise_product_count.py < input1.txt"
      ]
    },
    {
      "cell_type": "code",
      "execution_count": null,
      "metadata": {
        "colab": {
          "background_save": true
        },
        "id": "Bp5bFzs7ZMZv"
      },
      "outputs": [],
      "source": [
        "time_per_ins = 0.0134 / 231\n",
        "instructions_per_second = 1 / time_per_ins\n",
        "print(f\"Time per instruction C++: {time_per_ins}\")\n",
        "print(f\"Instructions per second C++: {instructions_per_second}\")\n",
        "time_per_ins = 0.0045 / 254\n",
        "instructions_per_second = 1 / time_per_ins\n",
        "print(f\"Time per instruction Python: {time_per_ins}\")\n",
        "print(f\"Instructions per second Python: {instructions_per_second}\")"
      ]
    },
    {
      "cell_type": "markdown",
      "metadata": {
        "id": "jlzLhZysclTS"
      },
      "source": [
        "**If we replace T in the previous equations we have:**\n",
        "\n",
        "Max n that c++ program can solve in a second: 82.12\n",
        "\n",
        "Max n that python program can solve in a second: 154.95"
      ]
    },
    {
      "cell_type": "markdown",
      "metadata": {
        "id": "1Hsbd-uHOb_j"
      },
      "source": [
        "### Sort solution in C++ and Python\n",
        "\n",
        "$$ O(n \\lg n)$$\n",
        "\n",
        "**Which sorting algorithm is used in GCC?**\n",
        "https://stackoverflow.com/questions/7221257/which-sorting-algorithm-is-used-in-gcc\n",
        "\n",
        "* ...  the algorithm is called introsort, a combination between Insertionsort, Quicksort & Heapsort. ...\n",
        "\n",
        "**Introsort**\n",
        "https://en.wikipedia.org/wiki/Introsort\n",
        "\n",
        "Introsort or introspective sort is a hybrid sorting algorithm that provides both fast average performance and (asymptotically) optimal worst-case performance. It begins with quicksort, it switches to heapsort when the recursion depth exceeds a level based on (the logarithm of) the number of elements being sorted and it switches to insertion sort when the number of elements is below some threshold\n",
        "\n",
        "*   Class\tSorting algorithm\n",
        "*   Data structure\tArray\n",
        "*   Worst-case performance\t$O(n \\lg n)$\n",
        "*   Average performance\t$O(n \\lg n)$\n",
        "\n",
        "**Tinsort**\n",
        "https://en.wikipedia.org/wiki/Timsort\n",
        "\n",
        "Timsort is a hybrid, stable sorting algorithm, derived from merge sort and insertion sort, designed to perform well on many kinds of real-world data. It was implemented by Tim Peters in 2002 for use in the Python programming language.\n",
        "\n",
        "*   Class\tSorting algorithm\n",
        "*   Data structure\tArray\n",
        "*   Worst-case performance\t$O(n \\lg n)$\n",
        "*   Best-case performance $O(n)$\n",
        "*   Average performance\t$O(n \\lg n)$\n",
        "*   Worst-case space complexity $O(n)$"
      ]
    },
    {
      "cell_type": "markdown",
      "metadata": {
        "id": "WMUthAXjOb_k"
      },
      "source": [
        "Add in each line a coment with the number of intstrcution that are executed in that line"
      ]
    },
    {
      "cell_type": "code",
      "execution_count": null,
      "metadata": {
        "colab": {
          "background_save": true
        },
        "id": "2-sXOmqFOb_k"
      },
      "outputs": [],
      "source": [
        "%%writefile max_pairwise_sort_nlogn.cpp\n",
        "#include <iostream>\n",
        "#include <vector>\n",
        "#include <algorithm>\n",
        "\n",
        "using namespace std;\n",
        "\n",
        "int main() {\n",
        "    cout << \"C++\" << \"\\n\";\n",
        "    int n;                                     // 1\n",
        "    cin >> n;                                  // 1\n",
        "    vector<int> numbers(n);                    // n\n",
        "\n",
        "    for (int i = 0; i < n; ++i) {              //1 + 2n\n",
        "        cin >> numbers[i];                     // 1\n",
        "    }\n",
        "\n",
        "    sort(numbers.begin(), numbers.end());      // n*long\n",
        "    cout <<  \"Product: \" << numbers[numbers.size() - 1] * numbers[numbers.size() - 2] << \"\\n\"; // 1\n",
        "    return 0;                                  // 1\n",
        "}"
      ]
    },
    {
      "cell_type": "code",
      "execution_count": null,
      "metadata": {
        "colab": {
          "background_save": true
        },
        "id": "S9haeyZjrfeR"
      },
      "outputs": [],
      "source": [
        "%%writefile max_pairwise_sort_nlogn.py\n",
        "print(\"Python 3\")\n",
        "# Read input values\n",
        "n = int(input())              # 1\n",
        "numbers = list(map(int, input().split()))  # n\n",
        "\n",
        "# Sort the list\n",
        "numbers.sort()                # n*log(n)\n",
        "\n",
        "# Calculate the maximum pairwise product\n",
        "result = numbers[-1] * numbers[-2]  # 1\n",
        "\n",
        "# Print the result\n",
        "print(f\"Product: {result}\")"
      ]
    },
    {
      "cell_type": "markdown",
      "metadata": {
        "id": "v8pdV9ABOb_k"
      },
      "source": [
        "Test with inputs 1 and 2\n",
        "\n"
      ]
    },
    {
      "cell_type": "code",
      "execution_count": null,
      "metadata": {
        "colab": {
          "background_save": true
        },
        "id": "kdXAyLG4Ob_k"
      },
      "outputs": [],
      "source": [
        "!g++ max_pairwise_sort_nlogn.cpp -o max_pairwise_sort_nlogn\n",
        "!./max_pairwise_sort_nlogn < input1.txt\n",
        "!./max_pairwise_sort_nlogn < input2.txt\n",
        "!python max_pairwise_sort_nlogn.py < input1.txt\n",
        "!python max_pairwise_sort_nlogn.py < input2.txt"
      ]
    },
    {
      "cell_type": "markdown",
      "metadata": {
        "id": "Sw-5X1q1Ob_k"
      },
      "source": [
        "Test and time it with input 3"
      ]
    },
    {
      "cell_type": "code",
      "execution_count": null,
      "metadata": {
        "colab": {
          "background_save": true
        },
        "id": "ryHJ30WIOb_k"
      },
      "outputs": [],
      "source": [
        "!g++ max_pairwise_sort_nlogn.cpp -o max_pairwise_sort_nlogn\n",
        "!./max_pairwise_sort_nlogn < input3.txt"
      ]
    },
    {
      "cell_type": "markdown",
      "metadata": {
        "id": "oJGdPl1HOb_k"
      },
      "source": [
        "20 stress tests"
      ]
    },
    {
      "cell_type": "code",
      "execution_count": null,
      "metadata": {
        "colab": {
          "background_save": true
        },
        "id": "qbc2EGGN7hd5"
      },
      "outputs": [],
      "source": [
        "#CREATE 20 random texts\n",
        "import random\n",
        "\n",
        "for i in range(1,21):\n",
        "    fileName = f\"stress_input_{i}.txt\"\n",
        "\n",
        "    with open(fileName, \"w\") as file:\n",
        "      n = random.randint(3, 40)\n",
        "      file.write(f\"{n}\"+ \"\\n\")\n",
        "      for i in range(1,n):\n",
        "          file.write(str(random.randint(1, 100)) + \" \")\n"
      ]
    },
    {
      "cell_type": "code",
      "execution_count": null,
      "metadata": {
        "colab": {
          "background_save": true
        },
        "id": "dp1-W_qPtfpI"
      },
      "outputs": [],
      "source": [
        "!g++ max_pairwise_sort_nlogn.cpp -o max_pairwise_sort_nlogn\n",
        "!./max_pairwise_sort_nlogn < stress_input_1.txt\n",
        "!./max_pairwise_sort_nlogn < stress_input_2.txt\n",
        "!./max_pairwise_sort_nlogn < stress_input_3.txt\n",
        "!./max_pairwise_sort_nlogn < stress_input_4.txt\n",
        "!./max_pairwise_sort_nlogn < stress_input_5.txt\n",
        "!./max_pairwise_sort_nlogn < stress_input_6.txt\n",
        "!./max_pairwise_sort_nlogn < stress_input_7.txt\n",
        "!./max_pairwise_sort_nlogn < stress_input_8.txt\n",
        "!./max_pairwise_sort_nlogn < stress_input_9.txt\n",
        "!./max_pairwise_sort_nlogn < stress_input_10.txt\n",
        "!./max_pairwise_sort_nlogn < stress_input_11.txt\n",
        "!./max_pairwise_sort_nlogn < stress_input_12.txt\n",
        "!./max_pairwise_sort_nlogn < stress_input_13.txt\n",
        "!./max_pairwise_sort_nlogn < stress_input_14.txt\n",
        "!./max_pairwise_sort_nlogn < stress_input_15.txt\n",
        "!./max_pairwise_sort_nlogn < stress_input_16.txt\n",
        "!./max_pairwise_sort_nlogn < stress_input_17.txt\n",
        "!./max_pairwise_sort_nlogn < stress_input_18.txt\n",
        "!./max_pairwise_sort_nlogn < stress_input_19.txt\n",
        "!./max_pairwise_sort_nlogn < stress_input_20.txt\n"
      ]
    },
    {
      "cell_type": "code",
      "execution_count": null,
      "metadata": {
        "colab": {
          "background_save": true
        },
        "id": "JOQFXLbC9HZm"
      },
      "outputs": [],
      "source": [
        "!python max_pairwise_sort_nlogn.py < stress_input_1.txt\n",
        "!python max_pairwise_sort_nlogn.py < stress_input_2.txt\n",
        "!python max_pairwise_sort_nlogn.py < stress_input_3.txt\n",
        "!python max_pairwise_sort_nlogn.py < stress_input_4.txt\n",
        "!python max_pairwise_sort_nlogn.py < stress_input_5.txt\n",
        "!python max_pairwise_sort_nlogn.py < stress_input_6.txt\n",
        "!python max_pairwise_sort_nlogn.py < stress_input_7.txt\n",
        "!python max_pairwise_sort_nlogn.py < stress_input_8.txt\n",
        "!python max_pairwise_sort_nlogn.py < stress_input_9.txt\n",
        "!python max_pairwise_sort_nlogn.py < stress_input_10.txt\n",
        "!python max_pairwise_sort_nlogn.py < stress_input_11.txt\n",
        "!python max_pairwise_sort_nlogn.py < stress_input_12.txt\n",
        "!python max_pairwise_sort_nlogn.py < stress_input_13.txt\n",
        "!python max_pairwise_sort_nlogn.py < stress_input_14.txt\n",
        "!python max_pairwise_sort_nlogn.py < stress_input_15.txt\n",
        "!python max_pairwise_sort_nlogn.py < stress_input_16.txt\n",
        "!python max_pairwise_sort_nlogn.py < stress_input_17.txt\n",
        "!python max_pairwise_sort_nlogn.py < stress_input_18.txt\n",
        "!python max_pairwise_sort_nlogn.py < stress_input_19.txt\n",
        "!python max_pairwise_sort_nlogn.py < stress_input_20.txt"
      ]
    },
    {
      "cell_type": "markdown",
      "metadata": {
        "id": "2beTmWFPOb_k"
      },
      "source": [
        "Count executed instructions in code and verify with inputs 1,2 and 3\n"
      ]
    },
    {
      "cell_type": "code",
      "execution_count": null,
      "metadata": {
        "colab": {
          "background_save": true
        },
        "id": "iuByv4x1Ob_k"
      },
      "outputs": [],
      "source": [
        "%%writefile max_pairwise_sort_nlogn_count.cpp\n",
        "#include <iostream>\n",
        "#include <vector>\n",
        "#include <algorithm>\n",
        "#include <bits/stdc++.h>\n",
        "\n",
        "using namespace std;\n",
        "\n",
        "int main() {\n",
        "    cout << \"C++\" << \"\\n\";\n",
        "\n",
        "    uint64_t execints = 0;\n",
        "\n",
        "    int n;                                     // 1\n",
        "    execints++;\n",
        "    cin >> n;                                  // 1\n",
        "    execints++;\n",
        "    vector<int> numbers(n);                    // n\n",
        "    execints += n;\n",
        "\n",
        "    for (int i = 0; i < n; ++i) {              //1 + 2n\n",
        "        execints += 2;\n",
        "        cin >> numbers[i];                     // 1\n",
        "        execints++;\n",
        "    }\n",
        "\n",
        "    sort(numbers.begin(), numbers.end());      // n*long\n",
        "\n",
        "    execints += n * log2(n);\n",
        "\n",
        "    cout <<  numbers[n - 1] * numbers[n - 2] << \"\\n\"; // 3\n",
        "\n",
        "    execints += 3;\n",
        "\n",
        "    cout << \"Executed instructions: \" << execints << \"\\n\";\n",
        "\n",
        "    return 0;                                  // 1\n",
        "}"
      ]
    },
    {
      "cell_type": "code",
      "execution_count": null,
      "metadata": {
        "colab": {
          "background_save": true
        },
        "id": "xbcAsy911mBI"
      },
      "outputs": [],
      "source": [
        "%%writefile max_pairwise_sort_nlogn_count.py\n",
        "\n",
        "import math\n",
        "\n",
        "print(\"Python 3\")\n",
        "\n",
        "# Read input values\n",
        "\n",
        "execints = 0\n",
        "n = int(input())              # 1\n",
        "\n",
        "execints += 1\n",
        "numbers = list(map(int, input().split()))  # 4n (n input read + map o(n) + create list + cast to int values)\n",
        "\n",
        "execints += 4 * n\n",
        "\n",
        "# Sort the list\n",
        "numbers.sort()                # n*log(n)\n",
        "\n",
        "execints += math.log2(n)\n",
        "\n",
        "# Calculate the maximum pairwise product\n",
        "result = numbers[-1] * numbers[-2]  # 3\n",
        "\n",
        "execints += 3\n",
        "\n",
        "# Print the result\n",
        "print(f\"Executed instructions: {int(execints)}\")"
      ]
    },
    {
      "cell_type": "code",
      "execution_count": null,
      "metadata": {
        "colab": {
          "background_save": true
        },
        "id": "D_s-BXN5zgMV"
      },
      "outputs": [],
      "source": [
        "!g++ max_pairwise_sort_nlogn_count.cpp -o max_pairwise_sort_nlogn_count\n",
        "!./max_pairwise_sort_nlogn_count < input1.txt\n",
        "!./max_pairwise_sort_nlogn_count < input2.txt\n",
        "!./max_pairwise_sort_nlogn_count < input3.txt\n",
        "!python max_pairwise_sort_nlogn_count.py < input1.txt\n",
        "!python max_pairwise_sort_nlogn_count.py < input2.txt\n",
        "!python max_pairwise_sort_nlogn_count.py < input3.txt"
      ]
    },
    {
      "cell_type": "markdown",
      "metadata": {
        "id": "x2CXhkwTOb_l"
      },
      "source": [
        "Calculate estimated time by instruction and number of instructions by second"
      ]
    },
    {
      "cell_type": "code",
      "execution_count": null,
      "metadata": {
        "colab": {
          "background_save": true
        },
        "id": "nTjxyTMtOb_l"
      },
      "outputs": [],
      "source": [
        "%%time\n",
        "!g++ max_pairwise_sort_nlogn_count.cpp -o max_pairwise_sort_nlogn_count\n",
        "!./max_pairwise_sort_nlogn_count < input1.txt"
      ]
    },
    {
      "cell_type": "code",
      "execution_count": null,
      "metadata": {
        "colab": {
          "background_save": true
        },
        "id": "APESHrNY6AIp"
      },
      "outputs": [],
      "source": [
        "%%time\n",
        "!python max_pairwise_sort_nlogn_count.py < input1.txt"
      ]
    },
    {
      "cell_type": "code",
      "execution_count": null,
      "metadata": {
        "colab": {
          "background_save": true
        },
        "id": "mgqLSRYx40ud"
      },
      "outputs": [],
      "source": [
        "time_per_ins = 0.025 / 78\n",
        "instructions_per_second = 1 / time_per_ins\n",
        "print(f\"Time per instruction C++: {time_per_ins}\")\n",
        "print(f\"Instructions per second C++: {instructions_per_second}\")\n",
        "time_per_ins = 0.00701 / 47\n",
        "instructions_per_second = 1 / time_per_ins\n",
        "print(f\"Time per instruction Python: {time_per_ins}\")\n",
        "print(f\"Instructions per second Python: {instructions_per_second}\")"
      ]
    },
    {
      "cell_type": "markdown",
      "metadata": {
        "id": "flpp06SeE_UA"
      },
      "source": []
    },
    {
      "cell_type": "markdown",
      "metadata": {
        "id": "VMKC5duEOQfk"
      },
      "source": [
        "### Efficient solution largest and second-largest in an list, array or vector in C++ and Python\n",
        " $$2.5 n = O(n)$$\n",
        "\n",
        "\n",
        "\n"
      ]
    },
    {
      "cell_type": "markdown",
      "metadata": {
        "id": "nLcKBwbU0QsE"
      },
      "source": [
        "Add in each line a coment with the number of intstrcution that are executed in that line"
      ]
    },
    {
      "cell_type": "code",
      "execution_count": null,
      "metadata": {
        "colab": {
          "background_save": true
        },
        "id": "knls5Fh3NSt_"
      },
      "outputs": [],
      "source": [
        "%%writefile max_pairwise_sort_efficient.cpp\n",
        "#include <iostream>\n",
        "#include <vector>\n",
        "#include <algorithm>\n",
        "#include <limits.h>\n",
        "\n",
        "using namespace std;\n",
        "\n",
        "int main() {\n",
        "    cout << \"--- C++ ---\" << \"\\n\";\n",
        "    int n;                                     // 1\n",
        "    cin >> n;                                  // 1\n",
        "    int maxNumber = INT_MIN;                   // 1\n",
        "    int secondMaxNumber = INT_MIN;             // 1\n",
        "\n",
        "    vector<int> numbers(n);                    // n\n",
        "\n",
        "    for (int i = 0; i < n; ++i) {              // 1 + 2n\n",
        "        cin >> numbers[i];                     // n\n",
        "    }\n",
        "\n",
        "\n",
        "    for (int i = 0; i < n; ++i) {              //1 + 2n\n",
        "        int aux = numbers[i];                           // n\n",
        "\n",
        "        if (aux > maxNumber){                  // n\n",
        "          secondMaxNumber = maxNumber;         // [0, n] in the worst case it would be n times\n",
        "          maxNumber = aux;                     // [0, n] in the worst case it would be n times\n",
        "\n",
        "        } else if (aux > secondMaxNumber) {    // n\n",
        "          secondMaxNumber = aux;               // [0, n] in the worst case it would be n times\n",
        "        }\n",
        "\n",
        "    }\n",
        "\n",
        "    cout <<  \"Product: \" << maxNumber * secondMaxNumber << \"\\n\"; // 1\n",
        "    return 0;                                  // 1\n",
        "}"
      ]
    },
    {
      "cell_type": "code",
      "execution_count": null,
      "metadata": {
        "colab": {
          "background_save": true
        },
        "id": "ghPCOA_eJE89"
      },
      "outputs": [],
      "source": [
        "%%writefile max_pairwise_sort_efficient.py\n",
        "print(\"--- Python ---\")\n",
        "n = int(input())\n",
        "numbers = list(map(int, input().split()))\n",
        "\n",
        "max_number = float(\"-inf\")                   # 1\n",
        "second_max_number = float(\"-inf\")            # 1\n",
        "\n",
        "for num in numbers:                          # 1 + 2n\n",
        "    if num > max_number:                     # n\n",
        "        second_max_number = max_number       # [0, n] in the worst case it would be n times\n",
        "        max_number = num                     # [0, n] in the worst case it would be n times\n",
        "    elif num > second_max_number:            # n\n",
        "        second_max_number = num              # [0, n] in the worst case it would be n times\n",
        "\n",
        "product = max_number * second_max_number     # 1\n",
        "print(f\"Product: {product}\")                 # 1"
      ]
    },
    {
      "cell_type": "markdown",
      "metadata": {
        "id": "-JCijbWxNSii"
      },
      "source": [
        "Test with inputs 1 and 2\n",
        "\n"
      ]
    },
    {
      "cell_type": "code",
      "execution_count": null,
      "metadata": {
        "colab": {
          "background_save": true
        },
        "id": "TrTGAfqlNVXT"
      },
      "outputs": [],
      "source": [
        "!g++ max_pairwise_sort_efficient.cpp -o max_pairwise_sort_efficient\n",
        "!./max_pairwise_sort_efficient < input1.txt\n",
        "!./max_pairwise_sort_efficient < input2.txt\n",
        "! python max_pairwise_sort_efficient.py < input1.txt\n",
        "! python max_pairwise_sort_efficient.py < input2.txt"
      ]
    },
    {
      "cell_type": "markdown",
      "metadata": {
        "id": "PRX51wADNR8b"
      },
      "source": [
        "Test and time it with input 3"
      ]
    },
    {
      "cell_type": "code",
      "execution_count": null,
      "metadata": {
        "colab": {
          "background_save": true
        },
        "id": "v4z7-Is_NRt7"
      },
      "outputs": [],
      "source": [
        "!g++ max_pairwise_sort_efficient.cpp -o max_pairwise_sort_efficient\n",
        "!./max_pairwise_sort_efficient < input3.txt\n",
        "! python max_pairwise_sort_efficient.py < input3.txt"
      ]
    },
    {
      "cell_type": "markdown",
      "metadata": {
        "id": "rpdfs0_TNZJf"
      },
      "source": [
        "***20*** stress tests"
      ]
    },
    {
      "cell_type": "code",
      "execution_count": null,
      "metadata": {
        "colab": {
          "background_save": true
        },
        "id": "Lu4tYcKzNcTT"
      },
      "outputs": [],
      "source": [
        "#CREATE 20 random texts\n",
        "import random\n",
        "\n",
        "for i in range(1,21):\n",
        "    fileName = f\"stress_input_{i}.txt\"\n",
        "\n",
        "    with open(fileName, \"w\") as file:\n",
        "      n = random.randint(3, 40)\n",
        "      file.write(f\"{n}\"+ \"\\n\")\n",
        "      for i in range(1,n):\n",
        "          file.write(str(random.randint(1, 100)) + \" \")"
      ]
    },
    {
      "cell_type": "code",
      "execution_count": null,
      "metadata": {
        "colab": {
          "background_save": true
        },
        "id": "tFqpTmZtM_jO"
      },
      "outputs": [],
      "source": [
        "!g++ max_pairwise_sort_efficient.cpp -o max_pairwise_sort_efficient\n",
        "!./max_pairwise_sort_efficient < stress_input_1.txt\n",
        "!./max_pairwise_sort_efficient < stress_input_2.txt\n",
        "!./max_pairwise_sort_efficient < stress_input_3.txt\n",
        "!./max_pairwise_sort_efficient < stress_input_4.txt\n",
        "!./max_pairwise_sort_efficient < stress_input_5.txt\n",
        "!./max_pairwise_sort_efficient < stress_input_6.txt\n",
        "!./max_pairwise_sort_efficient < stress_input_7.txt\n",
        "!./max_pairwise_sort_efficient < stress_input_8.txt\n",
        "!./max_pairwise_sort_efficient < stress_input_9.txt\n",
        "!./max_pairwise_sort_efficient < stress_input_10.txt\n",
        "!./max_pairwise_sort_efficient < stress_input_11.txt\n",
        "!./max_pairwise_sort_efficient < stress_input_12.txt\n",
        "!./max_pairwise_sort_efficient < stress_input_13.txt\n",
        "!./max_pairwise_sort_efficient < stress_input_14.txt\n",
        "!./max_pairwise_sort_efficient < stress_input_15.txt\n",
        "!./max_pairwise_sort_efficient < stress_input_16.txt\n",
        "!./max_pairwise_sort_efficient < stress_input_17.txt\n",
        "!./max_pairwise_sort_efficient < stress_input_18.txt\n",
        "!./max_pairwise_sort_efficient < stress_input_19.txt\n",
        "!./max_pairwise_sort_efficient < stress_input_20.txt"
      ]
    },
    {
      "cell_type": "code",
      "execution_count": null,
      "metadata": {
        "colab": {
          "background_save": true
        },
        "id": "JfxYg4ySNQa7"
      },
      "outputs": [],
      "source": [
        "! python max_pairwise_sort_efficient.py < stress_input_1.txt\n",
        "! python max_pairwise_sort_efficient.py < stress_input_2.txt\n",
        "! python max_pairwise_sort_efficient.py < stress_input_3.txt\n",
        "! python max_pairwise_sort_efficient.py < stress_input_4.txt\n",
        "! python max_pairwise_sort_efficient.py < stress_input_5.txt\n",
        "! python max_pairwise_sort_efficient.py < stress_input_6.txt\n",
        "! python max_pairwise_sort_efficient.py < stress_input_7.txt\n",
        "! python max_pairwise_sort_efficient.py < stress_input_8.txt\n",
        "! python max_pairwise_sort_efficient.py < stress_input_9.txt\n",
        "! python max_pairwise_sort_efficient.py < stress_input_10.txt\n",
        "! python max_pairwise_sort_efficient.py < stress_input_11.txt\n",
        "! python max_pairwise_sort_efficient.py < stress_input_12.txt\n",
        "! python max_pairwise_sort_efficient.py < stress_input_13.txt\n",
        "! python max_pairwise_sort_efficient.py < stress_input_14.txt\n",
        "! python max_pairwise_sort_efficient.py < stress_input_15.txt\n",
        "! python max_pairwise_sort_efficient.py < stress_input_16.txt\n",
        "! python max_pairwise_sort_efficient.py < stress_input_17.txt\n",
        "! python max_pairwise_sort_efficient.py < stress_input_18.txt\n",
        "! python max_pairwise_sort_efficient.py < stress_input_19.txt\n",
        "! python max_pairwise_sort_efficient.py < stress_input_20.txt"
      ]
    },
    {
      "cell_type": "markdown",
      "metadata": {
        "id": "L8U4151JNbxk"
      },
      "source": [
        "Count executed instructions in code and verify with inputs 1,2 and 3\n"
      ]
    },
    {
      "cell_type": "code",
      "execution_count": null,
      "metadata": {
        "colab": {
          "background_save": true
        },
        "id": "dh85RM8vNhFz"
      },
      "outputs": [],
      "source": [
        "%%writefile max_pairwise_sort_efficient_count.cpp\n",
        "#include <iostream>\n",
        "#include <vector>\n",
        "#include <algorithm>\n",
        "#include <limits.h>\n",
        "\n",
        "using namespace std;\n",
        "\n",
        "int main() {\n",
        "    cout << \"--- C++ ---\" << \"\\n\";\n",
        "    int exexins = 0;\n",
        "    int n;                                     // 1\n",
        "    exexins++;\n",
        "    cin >> n;                                  // 1\n",
        "    exexins++;\n",
        "    int maxNumber = INT_MIN;                   // 1\n",
        "    exexins++;\n",
        "    int secondMaxNumber = INT_MIN;             // 1\n",
        "    exexins++;\n",
        "\n",
        "    vector<int> numbers(n);                    // n\n",
        "\n",
        "    exexins += n;\n",
        "\n",
        "    for (int i = 0; i < n; ++i) {              // 1 + 2n\n",
        "        cin >> numbers[i];                     // n\n",
        "        exexins++;\n",
        "    }\n",
        "\n",
        "\n",
        "    exexins++;\n",
        "    for (int i = 0; i < n; ++i) {              //1 + 2n\n",
        "        exexins += 2;\n",
        "\n",
        "        int aux = numbers[i];                           // n\n",
        "        exexins++;\n",
        "\n",
        "\n",
        "        exexins++; // if\n",
        "        exexins++; // else if\n",
        "        if (aux > maxNumber){                  // n\n",
        "          secondMaxNumber = maxNumber;         // [0, n] in the worst case it would be n times\n",
        "          exexins++;\n",
        "          maxNumber = aux;                     // [0, n] in the worst case it would be n times\n",
        "          exexins++;\n",
        "        } else if (aux > secondMaxNumber) {    // n\n",
        "          secondMaxNumber = aux;               // [0, n] in the worst case it would be n times\n",
        "          exexins++;\n",
        "        }\n",
        "\n",
        "    }\n",
        "\n",
        "    cout <<  \"Executed instructions: \" << exexins << \" n: \"<< n << \" Product: \" << maxNumber * secondMaxNumber << \"\\n\"; // 1\n",
        "    return 0;                                  // 1\n",
        "}"
      ]
    },
    {
      "cell_type": "code",
      "execution_count": null,
      "metadata": {
        "colab": {
          "background_save": true
        },
        "id": "vMf0yeHLObSB"
      },
      "outputs": [],
      "source": [
        "!g++ max_pairwise_sort_efficient_count.cpp -o max_pairwise_sort_efficient_count\n",
        "!./max_pairwise_sort_efficient_count < input1.txt\n",
        "!./max_pairwise_sort_efficient_count < input2.txt\n",
        "!./max_pairwise_sort_efficient_count < input3.txt"
      ]
    },
    {
      "cell_type": "code",
      "execution_count": null,
      "metadata": {
        "colab": {
          "background_save": true
        },
        "id": "7v_YWJR6PMVv"
      },
      "outputs": [],
      "source": [
        "%%writefile max_pairwise_sort_efficient_count.py\n",
        "print(\"--- Python ---\")\n",
        "exexins = 0\n",
        "n = int(input())                             # 1\n",
        "exexins += 1\n",
        "numbers = list(map(int, input().split()))    # 4n (n input read + map o(n) + create list + cast to int values)\n",
        "exexins = 4 * n\n",
        "\n",
        "max_number = float(\"-inf\")                   # 1\n",
        "exexins += 1\n",
        "second_max_number = float(\"-inf\")            # 1\n",
        "exexins += 1\n",
        "\n",
        "exexins += 1\n",
        "for num in numbers:                          # 1 + 2n\n",
        "    exexins += 2\n",
        "\n",
        "    exexins += 1 # if\n",
        "    exexins += 1 # elif\n",
        "    if num > max_number:                     # n\n",
        "        second_max_number = max_number       # [0, n] in the worst case it would be n times\n",
        "        exexins += 1\n",
        "        max_number = num                     # [0, n] in the worst case it would be n times\n",
        "        exexins += 1\n",
        "    elif num > second_max_number:            # n\n",
        "        second_max_number = num              # [0, n] in the worst case it would be n times\n",
        "        exexins += 1\n",
        "\n",
        "product = max_number * second_max_number     # 1\n",
        "exexins += 1\n",
        "print(f\"Executed instructions: {exexins} n: {n} Product: {product}\")                 # 1\n"
      ]
    },
    {
      "cell_type": "code",
      "execution_count": null,
      "metadata": {
        "colab": {
          "background_save": true
        },
        "id": "K9SQsiKaP3hO"
      },
      "outputs": [],
      "source": [
        "!python max_pairwise_sort_efficient_count.py < input1.txt\n",
        "!python max_pairwise_sort_efficient_count.py < input2.txt\n",
        "!python max_pairwise_sort_efficient_count.py < input3.txt"
      ]
    },
    {
      "cell_type": "markdown",
      "metadata": {
        "id": "K6ybgCmpNygr"
      },
      "source": [
        "Calculate estimated time by instruction and number of instructions by second"
      ]
    },
    {
      "cell_type": "code",
      "execution_count": null,
      "metadata": {
        "colab": {
          "background_save": true
        },
        "id": "kwe3G1O3Nz1w"
      },
      "outputs": [],
      "source": [
        "%%time\n",
        "!g++ max_pairwise_sort_efficient_count.cpp -o max_pairwise_sort_efficient_count\n",
        "!./max_pairwise_sort_efficient_count < input1.txt"
      ]
    },
    {
      "cell_type": "code",
      "execution_count": null,
      "metadata": {
        "colab": {
          "background_save": true
        },
        "id": "5_D5lKqnRH1Y"
      },
      "outputs": [],
      "source": [
        "%%time\n",
        "!python max_pairwise_sort_efficient_count.py < input1.txt"
      ]
    },
    {
      "cell_type": "code",
      "execution_count": null,
      "metadata": {
        "colab": {
          "background_save": true
        },
        "id": "LRVfUSpGRTwd"
      },
      "outputs": [],
      "source": [
        "time_per_ins = 0.0115 / 85\n",
        "instructions_per_second = 1 / time_per_ins\n",
        "print(f\"Time per instruction C++: {time_per_ins}\")\n",
        "print(f\"Instructions per second C++: {instructions_per_second}\")\n",
        "time_per_ins = 0.00846 / 104\n",
        "instructions_per_second = 1 / time_per_ins\n",
        "print(f\"Time per instruction Python: {time_per_ins}\")\n",
        "print(f\"Instructions per second Python: {instructions_per_second}\")"
      ]
    },
    {
      "cell_type": "markdown",
      "metadata": {
        "id": "sUpIWcykOGpT"
      },
      "source": [
        "### Super efficient solution IN C++ AND PYTHON (both)\n",
        "\n",
        "Whitout storing the list in memory, only stpring the largest and second largest and whitout calling a function, add in each line a coment with the number of instructions that are executed in that line\n",
        "\n",
        "in C++ and Python\n",
        " $$2 n = O(n)$$"
      ]
    },
    {
      "cell_type": "code",
      "execution_count": null,
      "metadata": {
        "colab": {
          "background_save": true
        },
        "id": "hBLt_xBQLy8E"
      },
      "outputs": [],
      "source": [
        "%%writefile max_pairwise_sort_super_efficient.cpp\n",
        "#include <iostream>\n",
        "#include <vector>\n",
        "#include <algorithm>\n",
        "#include <limits.h>\n",
        "\n",
        "using namespace std;\n",
        "\n",
        "int main() {\n",
        "    cout << \"--- C++ ---\" << \"\\n\";\n",
        "    int n;                                     // 1\n",
        "    cin >> n;                                  // 1\n",
        "    int maxNumber = INT_MIN;                   // 1\n",
        "    int secondMaxNumber = INT_MIN;             // 1\n",
        "\n",
        "\n",
        "    for (int i = 0; i < n; ++i) {              //1 + 2n\n",
        "        int aux = 0;                           // n\n",
        "        cin >> aux;                            // n\n",
        "\n",
        "        if (aux > maxNumber){                  // n\n",
        "          secondMaxNumber = maxNumber;         // [0, n] in the worst case it would be n times\n",
        "          maxNumber = aux;                     // [0, n] in the worst case it would be n times\n",
        "\n",
        "        } else if (aux > secondMaxNumber) {    // n\n",
        "          secondMaxNumber = aux;               // [0, n] in the worst case it would be n times\n",
        "        }\n",
        "\n",
        "    }\n",
        "\n",
        "    cout <<  \"Product: \" << maxNumber * secondMaxNumber << \"\\n\"; // 1\n",
        "    return 0;                                  // 1\n",
        "}"
      ]
    },
    {
      "cell_type": "code",
      "execution_count": null,
      "metadata": {
        "colab": {
          "background_save": true
        },
        "id": "rUxTKUJwSl0a"
      },
      "outputs": [],
      "source": [
        "%%writefile max_pairwise_sort_super_efficient.py\n",
        "print(\"--- Python ---\")\n",
        "n = int(input())                            # 1\n",
        "max_number = float(\"-inf\")                  # 1\n",
        "second_max_number = float(\"-inf\")           # 1\n",
        "\n",
        "for num in input().split():                 # 3 + 2n\n",
        "\n",
        "    num = int(num)                          # n\n",
        "\n",
        "    if num > max_number:                    # n\n",
        "        second_max_number = max_number      # [0, n] in the worst case it would be n times\n",
        "        max_number = num                    # [0, n] in the worst case it would be n times\n",
        "    elif num > second_max_number:           # n\n",
        "        second_max_number = num             # [0, n] in the worst case it would be n times\n",
        "\n",
        "print(f\"Product: {max_number * second_max_number}\")"
      ]
    },
    {
      "cell_type": "markdown",
      "metadata": {
        "id": "683gc3roHqzb"
      },
      "source": [
        "Test with inputs 1 and 2\n",
        "\n",
        "\n"
      ]
    },
    {
      "cell_type": "code",
      "execution_count": null,
      "metadata": {
        "colab": {
          "background_save": true
        },
        "id": "b7d4LA8OIc2_"
      },
      "outputs": [],
      "source": [
        "!g++ max_pairwise_sort_super_efficient.cpp -o max_pairwise_sort_super_efficient\n",
        "!./max_pairwise_sort_super_efficient < input1.txt\n",
        "!./max_pairwise_sort_super_efficient < input2.txt\n",
        "!python max_pairwise_sort_super_efficient.py < input1.txt\n",
        "!python max_pairwise_sort_super_efficient.py < input2.txt"
      ]
    },
    {
      "cell_type": "markdown",
      "metadata": {
        "id": "36Ugn1odIeJz"
      },
      "source": [
        "Test and time it with input 3"
      ]
    },
    {
      "cell_type": "code",
      "execution_count": null,
      "metadata": {
        "colab": {
          "background_save": true
        },
        "id": "jDyMbCnxHqSN"
      },
      "outputs": [],
      "source": [
        "!g++ max_pairwise_sort_super_efficient.cpp -o max_pairwise_sort_super_efficient\n",
        "!./max_pairwise_sort_super_efficient < input3.txt\n",
        "!python max_pairwise_sort_super_efficient.py < input3.txt"
      ]
    },
    {
      "cell_type": "markdown",
      "metadata": {
        "id": "bhqiKQG6fjKM"
      },
      "source": [
        "20 stress tests"
      ]
    },
    {
      "cell_type": "code",
      "execution_count": null,
      "metadata": {
        "colab": {
          "background_save": true
        },
        "id": "2KsiXKhALzwm"
      },
      "outputs": [],
      "source": [
        "#CREATE 20 random texts\n",
        "import random\n",
        "\n",
        "for i in range(1,21):\n",
        "    fileName = f\"stress_input_{i}.txt\"\n",
        "\n",
        "    with open(fileName, \"w\") as file:\n",
        "      n = random.randint(3, 40)\n",
        "      file.write(f\"{n}\"+ \"\\n\")\n",
        "      for i in range(1,n):\n",
        "          file.write(str(random.randint(1, 100)) + \" \")"
      ]
    },
    {
      "cell_type": "code",
      "execution_count": null,
      "metadata": {
        "colab": {
          "background_save": true
        },
        "id": "cg1qOdBFay3S"
      },
      "outputs": [],
      "source": [
        "!g++ max_pairwise_sort_super_efficient.cpp -o max_pairwise_sort_super_efficient\n",
        "!./max_pairwise_sort_super_efficient < stress_input_1.txt\n",
        "!./max_pairwise_sort_super_efficient < stress_input_2.txt\n",
        "!./max_pairwise_sort_super_efficient < stress_input_3.txt\n",
        "!./max_pairwise_sort_super_efficient < stress_input_4.txt\n",
        "!./max_pairwise_sort_super_efficient < stress_input_5.txt\n",
        "!./max_pairwise_sort_super_efficient < stress_input_6.txt\n",
        "!./max_pairwise_sort_super_efficient < stress_input_7.txt\n",
        "!./max_pairwise_sort_super_efficient < stress_input_8.txt\n",
        "!./max_pairwise_sort_super_efficient < stress_input_9.txt\n",
        "!./max_pairwise_sort_super_efficient < stress_input_10.txt\n",
        "!./max_pairwise_sort_super_efficient < stress_input_11.txt\n",
        "!./max_pairwise_sort_super_efficient < stress_input_12.txt\n",
        "!./max_pairwise_sort_super_efficient < stress_input_13.txt\n",
        "!./max_pairwise_sort_super_efficient < stress_input_14.txt\n",
        "!./max_pairwise_sort_super_efficient < stress_input_15.txt\n",
        "!./max_pairwise_sort_super_efficient < stress_input_16.txt\n",
        "!./max_pairwise_sort_super_efficient < stress_input_17.txt\n",
        "!./max_pairwise_sort_super_efficient < stress_input_18.txt\n",
        "!./max_pairwise_sort_super_efficient < stress_input_19.txt\n",
        "!./max_pairwise_sort_super_efficient < stress_input_20.txt"
      ]
    },
    {
      "cell_type": "code",
      "execution_count": null,
      "metadata": {
        "colab": {
          "background_save": true
        },
        "id": "LR5JDCq8bBhz"
      },
      "outputs": [],
      "source": [
        "!python max_pairwise_sort_super_efficient.py < stress_input_1.txt\n",
        "!python max_pairwise_sort_super_efficient.py < stress_input_2.txt\n",
        "!python max_pairwise_sort_super_efficient.py < stress_input_3.txt\n",
        "!python max_pairwise_sort_super_efficient.py < stress_input_4.txt\n",
        "!python max_pairwise_sort_super_efficient.py < stress_input_5.txt\n",
        "!python max_pairwise_sort_super_efficient.py < stress_input_6.txt\n",
        "!python max_pairwise_sort_super_efficient.py < stress_input_7.txt\n",
        "!python max_pairwise_sort_super_efficient.py < stress_input_8.txt\n",
        "!python max_pairwise_sort_super_efficient.py < stress_input_9.txt\n",
        "!python max_pairwise_sort_super_efficient.py < stress_input_10.txt\n",
        "!python max_pairwise_sort_super_efficient.py < stress_input_11.txt\n",
        "!python max_pairwise_sort_super_efficient.py < stress_input_12.txt\n",
        "!python max_pairwise_sort_super_efficient.py < stress_input_13.txt\n",
        "!python max_pairwise_sort_super_efficient.py < stress_input_14.txt\n",
        "!python max_pairwise_sort_super_efficient.py < stress_input_15.txt\n",
        "!python max_pairwise_sort_super_efficient.py < stress_input_16.txt\n",
        "!python max_pairwise_sort_super_efficient.py < stress_input_17.txt\n",
        "!python max_pairwise_sort_super_efficient.py < stress_input_18.txt\n",
        "!python max_pairwise_sort_super_efficient.py < stress_input_19.txt\n",
        "!python max_pairwise_sort_super_efficient.py < stress_input_20.txt"
      ]
    },
    {
      "cell_type": "markdown",
      "metadata": {
        "id": "fEXj8GHJH5p1"
      },
      "source": [
        "Count executed instructions in code and verify with inputs 1,2 and 3"
      ]
    },
    {
      "cell_type": "code",
      "execution_count": null,
      "metadata": {
        "colab": {
          "background_save": true
        },
        "id": "LF1DHjKXIAsF"
      },
      "outputs": [],
      "source": [
        "%%writefile max_pairwise_sort_super_efficient_count.cpp\n",
        "#include <iostream>\n",
        "#include <vector>\n",
        "#include <algorithm>\n",
        "#include <limits.h>\n",
        "\n",
        "using namespace std;\n",
        "\n",
        "int main() {\n",
        "    cout << \"--- C++ ---\" << \"\\n\";\n",
        "    int exexins = 0;\n",
        "    int n;                                     // 1\n",
        "    exexins++;\n",
        "    cin >> n;                                  // 1\n",
        "    exexins++;\n",
        "    int maxNumber = INT_MIN;                   // 1\n",
        "    exexins++;\n",
        "    int secondMaxNumber = INT_MIN;             // 1\n",
        "    exexins++;\n",
        "\n",
        "\n",
        "    exexins++;\n",
        "    for (int i = 0; i < n; ++i) {              //1 + 2n\n",
        "        exexins += 2;\n",
        "        int aux = 0;                           // n\n",
        "        exexins++;\n",
        "\n",
        "        cin>> aux;                            // n\n",
        "        exexins++;\n",
        "\n",
        "\n",
        "        exexins++; // if\n",
        "        exexins++; // else if\n",
        "        if (aux > maxNumber){                  // n\n",
        "          secondMaxNumber = maxNumber;         // [0, n] in the worst case it would be n times\n",
        "          exexins++;\n",
        "          maxNumber = aux;                     // [0, n] in the worst case it would be n times\n",
        "          exexins++;\n",
        "        } else if (aux > secondMaxNumber) {    // n\n",
        "          secondMaxNumber = aux;               // [0, n] in the worst case it would be n times\n",
        "          exexins++;\n",
        "        }\n",
        "\n",
        "    }\n",
        "\n",
        "    cout <<  \"Executed instructions: \" << exexins << \" n: \"<< n << \" Product: \" << maxNumber * secondMaxNumber << \"\\n\"; // 1\n",
        "    return 0;                                  // 1\n",
        "}"
      ]
    },
    {
      "cell_type": "code",
      "execution_count": null,
      "metadata": {
        "colab": {
          "background_save": true
        },
        "id": "Hv_HouQYb9UX"
      },
      "outputs": [],
      "source": [
        "%%writefile max_pairwise_sort_super_efficient_count.py\n",
        "print(\"--- Python ---\")\n",
        "exexins = 0\n",
        "n = int(input())                            # 1\n",
        "exexins += 1\n",
        "max_number = float(\"-inf\")                  # 1\n",
        "exexins += 1\n",
        "second_max_number = float(\"-inf\")           # 1\n",
        "exexins += 1\n",
        "\n",
        "exexins += 3\n",
        "for num in input().split():                 # 3 + 2n\n",
        "    exexins += 2\n",
        "    num = int(num)                          # n\n",
        "    exexins += 1\n",
        "\n",
        "    exexins += 1 # if\n",
        "    exexins += 1 # elif\n",
        "    if num > max_number:                    # n\n",
        "        second_max_number = max_number      # [0, n] in the worst case it would be n times\n",
        "        exexins += 1\n",
        "        max_number = num                    # [0, n] in the worst case it would be n times\n",
        "        exexins += 1\n",
        "    elif num > second_max_number:           # n\n",
        "        second_max_number = num             # [0, n] in the worst case it would be n times\n",
        "        exexins += 1\n",
        "\n",
        "print(f\"Executed instructions: {exexins} n: {n} Product: {max_number * second_max_number}\")"
      ]
    },
    {
      "cell_type": "code",
      "execution_count": null,
      "metadata": {
        "colab": {
          "background_save": true
        },
        "id": "AAFsPmeebdXl"
      },
      "outputs": [],
      "source": [
        "!g++ max_pairwise_sort_super_efficient_count.cpp -o max_pairwise_sort_super_efficient_count\n",
        "!./max_pairwise_sort_super_efficient_count < input1.txt\n",
        "!./max_pairwise_sort_super_efficient_count < input2.txt\n",
        "!./max_pairwise_sort_super_efficient_count < input3.txt\n",
        "!python max_pairwise_sort_super_efficient_count.py < input1.txt\n",
        "!python max_pairwise_sort_super_efficient_count.py < input2.txt\n",
        "!python max_pairwise_sort_super_efficient_count.py < input3.txt"
      ]
    },
    {
      "cell_type": "markdown",
      "metadata": {
        "id": "yae7sSm2IG9U"
      },
      "source": [
        "Calculate estimated time by instruction and number of instructions by second"
      ]
    },
    {
      "cell_type": "code",
      "execution_count": null,
      "metadata": {
        "colab": {
          "background_save": true
        },
        "id": "rm1wP6dBdrj2"
      },
      "outputs": [],
      "source": [
        "%%time\n",
        "!g++ max_pairwise_sort_super_efficient_count.cpp -o max_pairwise_sort_super_efficient_count\n",
        "!./max_pairwise_sort_super_efficient_count < input1.txt"
      ]
    },
    {
      "cell_type": "code",
      "execution_count": null,
      "metadata": {
        "colab": {
          "background_save": true
        },
        "id": "1lVeXQEZdrj3"
      },
      "outputs": [],
      "source": [
        "%%time\n",
        "!python max_pairwise_sort_super_efficient_count.py < input1.txt"
      ]
    },
    {
      "cell_type": "code",
      "execution_count": null,
      "metadata": {
        "colab": {
          "background_save": true
        },
        "id": "RoHTkLytdrj4"
      },
      "outputs": [],
      "source": [
        "time_per_ins = 0.011 / 85\n",
        "instructions_per_second = 1 / time_per_ins\n",
        "print(f\"Time per instruction C++: {time_per_ins}\")\n",
        "print(f\"Instructions per second C++: {instructions_per_second}\")\n",
        "time_per_ins = 0.00361 / 76\n",
        "instructions_per_second = 1 / time_per_ins\n",
        "print(f\"Time per instruction Python: {time_per_ins}\")\n",
        "print(f\"Instructions per second Python: {instructions_per_second}\")"
      ]
    },
    {
      "cell_type": "markdown",
      "metadata": {
        "id": "4w9y2O25zGNx"
      },
      "source": [
        "# Perform 100 randomized automated tests in C++ and Python between the super efficient solution  (𝑇(𝑛)<10𝑛=𝑂(𝑛))  against the sorting solution  (𝑇(𝑛)=𝑂(𝑛𝑙𝑛𝑔)) ."
      ]
    },
    {
      "cell_type": "code",
      "execution_count": null,
      "metadata": {
        "colab": {
          "background_save": true
        },
        "id": "uZ0Cz5x4zJlY"
      },
      "outputs": [],
      "source": [
        "#CREATE 100 random texts\n",
        "import random\n",
        "\n",
        "for i in range(1,101):\n",
        "    fileName = f\"stress_input_{i}.txt\"\n",
        "\n",
        "    with open(fileName, \"w\") as file:\n",
        "      n = random.randint(3, 40)\n",
        "      file.write(f\"{n}\"+ \"\\n\")\n",
        "      for i in range(1,n):\n",
        "          file.write(str(random.randint(1, 100)) + \" \")"
      ]
    },
    {
      "cell_type": "markdown",
      "metadata": {
        "id": "m2Hi5NPyzhRx"
      },
      "source": [
        "# C++"
      ]
    },
    {
      "cell_type": "markdown",
      "metadata": {
        "id": "Xb9dPeDFz5IG"
      },
      "source": [
        "## Super efficient solution (𝑇(𝑛)<10𝑛=𝑂(𝑛))"
      ]
    },
    {
      "cell_type": "code",
      "execution_count": null,
      "metadata": {
        "colab": {
          "background_save": true
        },
        "id": "u7_Zd0yjzJON"
      },
      "outputs": [],
      "source": [
        "%%writefile max_pairwise_sort_super_efficient.cpp\n",
        "#include <iostream>\n",
        "#include <vector>\n",
        "#include <algorithm>\n",
        "#include <limits.h>\n",
        "\n",
        "using namespace std;\n",
        "\n",
        "int main() {\n",
        "    int n;                                     // 1\n",
        "    cin >> n;                                  // 1\n",
        "    int maxNumber = INT_MIN;                   // 1\n",
        "    int secondMaxNumber = INT_MIN;             // 1\n",
        "\n",
        "\n",
        "    for (int i = 0; i < n; ++i) {              //1 + 2n\n",
        "        int aux = 0;                           // n\n",
        "        cin >> aux;                            // n\n",
        "\n",
        "        if (aux > maxNumber){                  // n\n",
        "          secondMaxNumber = maxNumber;         // [0, n] in the worst case it would be n times\n",
        "          maxNumber = aux;                     // [0, n] in the worst case it would be n times\n",
        "\n",
        "        } else if (aux > secondMaxNumber) {    // n\n",
        "          secondMaxNumber = aux;               // [0, n] in the worst case it would be n times\n",
        "        }\n",
        "\n",
        "    }\n",
        "\n",
        "    cout <<  \"n: \" << n << \" Product: \" << maxNumber * secondMaxNumber << \"\\n\"; // 1\n",
        "    return 0;                                  // 1\n",
        "}"
      ]
    },
    {
      "cell_type": "code",
      "execution_count": null,
      "metadata": {
        "colab": {
          "background_save": true
        },
        "id": "dNefwBtmz4mH"
      },
      "outputs": [],
      "source": [
        "%%time\n",
        "!g++ max_pairwise_sort_super_efficient.cpp -o max_pairwise_sort_super_efficient\n",
        "!./max_pairwise_sort_super_efficient < stress_input_1.txt\n",
        "!./max_pairwise_sort_super_efficient < stress_input_2.txt\n",
        "!./max_pairwise_sort_super_efficient < stress_input_3.txt\n",
        "!./max_pairwise_sort_super_efficient < stress_input_4.txt\n",
        "!./max_pairwise_sort_super_efficient < stress_input_5.txt\n",
        "!./max_pairwise_sort_super_efficient < stress_input_6.txt\n",
        "!./max_pairwise_sort_super_efficient < stress_input_7.txt\n",
        "!./max_pairwise_sort_super_efficient < stress_input_8.txt\n",
        "!./max_pairwise_sort_super_efficient < stress_input_9.txt\n",
        "!./max_pairwise_sort_super_efficient < stress_input_10.txt\n",
        "\n",
        "!./max_pairwise_sort_super_efficient < stress_input_11.txt\n",
        "!./max_pairwise_sort_super_efficient < stress_input_12.txt\n",
        "!./max_pairwise_sort_super_efficient < stress_input_13.txt\n",
        "!./max_pairwise_sort_super_efficient < stress_input_14.txt\n",
        "!./max_pairwise_sort_super_efficient < stress_input_15.txt\n",
        "!./max_pairwise_sort_super_efficient < stress_input_16.txt\n",
        "!./max_pairwise_sort_super_efficient < stress_input_17.txt\n",
        "!./max_pairwise_sort_super_efficient < stress_input_18.txt\n",
        "!./max_pairwise_sort_super_efficient < stress_input_19.txt\n",
        "!./max_pairwise_sort_super_efficient < stress_input_20.txt\n",
        "\n",
        "!./max_pairwise_sort_super_efficient < stress_input_21.txt\n",
        "!./max_pairwise_sort_super_efficient < stress_input_22.txt\n",
        "!./max_pairwise_sort_super_efficient < stress_input_23.txt\n",
        "!./max_pairwise_sort_super_efficient < stress_input_24.txt\n",
        "!./max_pairwise_sort_super_efficient < stress_input_25.txt\n",
        "!./max_pairwise_sort_super_efficient < stress_input_26.txt\n",
        "!./max_pairwise_sort_super_efficient < stress_input_27.txt\n",
        "!./max_pairwise_sort_super_efficient < stress_input_28.txt\n",
        "!./max_pairwise_sort_super_efficient < stress_input_29.txt\n",
        "!./max_pairwise_sort_super_efficient < stress_input_30.txt\n",
        "\n",
        "!./max_pairwise_sort_super_efficient < stress_input_31.txt\n",
        "!./max_pairwise_sort_super_efficient < stress_input_32.txt\n",
        "!./max_pairwise_sort_super_efficient < stress_input_33.txt\n",
        "!./max_pairwise_sort_super_efficient < stress_input_34.txt\n",
        "!./max_pairwise_sort_super_efficient < stress_input_35.txt\n",
        "!./max_pairwise_sort_super_efficient < stress_input_36.txt\n",
        "!./max_pairwise_sort_super_efficient < stress_input_37.txt\n",
        "!./max_pairwise_sort_super_efficient < stress_input_38.txt\n",
        "!./max_pairwise_sort_super_efficient < stress_input_39.txt\n",
        "!./max_pairwise_sort_super_efficient < stress_input_40.txt\n",
        "\n",
        "!./max_pairwise_sort_super_efficient < stress_input_41.txt\n",
        "!./max_pairwise_sort_super_efficient < stress_input_42.txt\n",
        "!./max_pairwise_sort_super_efficient < stress_input_43.txt\n",
        "!./max_pairwise_sort_super_efficient < stress_input_44.txt\n",
        "!./max_pairwise_sort_super_efficient < stress_input_45.txt\n",
        "!./max_pairwise_sort_super_efficient < stress_input_46.txt\n",
        "!./max_pairwise_sort_super_efficient < stress_input_47.txt\n",
        "!./max_pairwise_sort_super_efficient < stress_input_48.txt\n",
        "!./max_pairwise_sort_super_efficient < stress_input_49.txt\n",
        "!./max_pairwise_sort_super_efficient < stress_input_50.txt\n",
        "\n",
        "!./max_pairwise_sort_super_efficient < stress_input_51.txt\n",
        "!./max_pairwise_sort_super_efficient < stress_input_52.txt\n",
        "!./max_pairwise_sort_super_efficient < stress_input_53.txt\n",
        "!./max_pairwise_sort_super_efficient < stress_input_54.txt\n",
        "!./max_pairwise_sort_super_efficient < stress_input_55.txt\n",
        "!./max_pairwise_sort_super_efficient < stress_input_56.txt\n",
        "!./max_pairwise_sort_super_efficient < stress_input_57.txt\n",
        "!./max_pairwise_sort_super_efficient < stress_input_58.txt\n",
        "!./max_pairwise_sort_super_efficient < stress_input_59.txt\n",
        "!./max_pairwise_sort_super_efficient < stress_input_60.txt\n",
        "\n",
        "!./max_pairwise_sort_super_efficient < stress_input_61.txt\n",
        "!./max_pairwise_sort_super_efficient < stress_input_62.txt\n",
        "!./max_pairwise_sort_super_efficient < stress_input_63.txt\n",
        "!./max_pairwise_sort_super_efficient < stress_input_64.txt\n",
        "!./max_pairwise_sort_super_efficient < stress_input_65.txt\n",
        "!./max_pairwise_sort_super_efficient < stress_input_66.txt\n",
        "!./max_pairwise_sort_super_efficient < stress_input_67.txt\n",
        "!./max_pairwise_sort_super_efficient < stress_input_68.txt\n",
        "!./max_pairwise_sort_super_efficient < stress_input_69.txt\n",
        "!./max_pairwise_sort_super_efficient < stress_input_70.txt\n",
        "\n",
        "!./max_pairwise_sort_super_efficient < stress_input_71.txt\n",
        "!./max_pairwise_sort_super_efficient < stress_input_72.txt\n",
        "!./max_pairwise_sort_super_efficient < stress_input_73.txt\n",
        "!./max_pairwise_sort_super_efficient < stress_input_74.txt\n",
        "!./max_pairwise_sort_super_efficient < stress_input_75.txt\n",
        "!./max_pairwise_sort_super_efficient < stress_input_76.txt\n",
        "!./max_pairwise_sort_super_efficient < stress_input_77.txt\n",
        "!./max_pairwise_sort_super_efficient < stress_input_78.txt\n",
        "!./max_pairwise_sort_super_efficient < stress_input_79.txt\n",
        "!./max_pairwise_sort_super_efficient < stress_input_80.txt\n",
        "\n",
        "!./max_pairwise_sort_super_efficient < stress_input_81.txt\n",
        "!./max_pairwise_sort_super_efficient < stress_input_82.txt\n",
        "!./max_pairwise_sort_super_efficient < stress_input_83.txt\n",
        "!./max_pairwise_sort_super_efficient < stress_input_84.txt\n",
        "!./max_pairwise_sort_super_efficient < stress_input_85.txt\n",
        "!./max_pairwise_sort_super_efficient < stress_input_86.txt\n",
        "!./max_pairwise_sort_super_efficient < stress_input_87.txt\n",
        "!./max_pairwise_sort_super_efficient < stress_input_88.txt\n",
        "!./max_pairwise_sort_super_efficient < stress_input_89.txt\n",
        "!./max_pairwise_sort_super_efficient < stress_input_90.txt\n",
        "\n",
        "!./max_pairwise_sort_super_efficient < stress_input_91.txt\n",
        "!./max_pairwise_sort_super_efficient < stress_input_92.txt\n",
        "!./max_pairwise_sort_super_efficient < stress_input_93.txt\n",
        "!./max_pairwise_sort_super_efficient < stress_input_94.txt\n",
        "!./max_pairwise_sort_super_efficient < stress_input_95.txt\n",
        "!./max_pairwise_sort_super_efficient < stress_input_96.txt\n",
        "!./max_pairwise_sort_super_efficient < stress_input_97.txt\n",
        "!./max_pairwise_sort_super_efficient < stress_input_98.txt\n",
        "!./max_pairwise_sort_super_efficient < stress_input_99.txt\n",
        "!./max_pairwise_sort_super_efficient < stress_input_100.txt\n"
      ]
    },
    {
      "cell_type": "markdown",
      "metadata": {
        "id": "JBigjCGQzj_3"
      },
      "source": [
        "## Sortin solution (𝑇(𝑛)=𝑂(𝑛𝑙𝑛𝑔))"
      ]
    },
    {
      "cell_type": "code",
      "execution_count": null,
      "metadata": {
        "colab": {
          "background_save": true
        },
        "id": "0kzVsZPzzkAG"
      },
      "outputs": [],
      "source": [
        "%%writefile max_pairwise_sort_nlogn.cpp\n",
        "#include <iostream>\n",
        "#include <vector>\n",
        "#include <algorithm>\n",
        "\n",
        "using namespace std;\n",
        "\n",
        "int main() {\n",
        "    int n;                                     // 1\n",
        "    cin >> n;                                  // 1\n",
        "    vector<int> numbers(n);                    // n\n",
        "\n",
        "    for (int i = 0; i < n; ++i) {              //1 + 2n\n",
        "        cin >> numbers[i];                     // 1\n",
        "    }\n",
        "\n",
        "    sort(numbers.begin(), numbers.end());      // n*long\n",
        "    cout <<  \"n: \" << n << \" Product: \" << numbers[numbers.size() - 1] * numbers[numbers.size() - 2] << \"\\n\"; // 1\n",
        "    return 0;                                  // 1\n",
        "}"
      ]
    },
    {
      "cell_type": "code",
      "execution_count": null,
      "metadata": {
        "colab": {
          "background_save": true
        },
        "id": "11KSmpUpzkAG"
      },
      "outputs": [],
      "source": [
        "%%time\n",
        "!g++ max_pairwise_sort_nlogn.cpp -o max_pairwise_sort_nlogn\n",
        "!./max_pairwise_sort_nlogn < stress_input_1.txt\n",
        "!./max_pairwise_sort_nlogn < stress_input_2.txt\n",
        "!./max_pairwise_sort_nlogn < stress_input_3.txt\n",
        "!./max_pairwise_sort_nlogn < stress_input_4.txt\n",
        "!./max_pairwise_sort_nlogn < stress_input_5.txt\n",
        "!./max_pairwise_sort_nlogn < stress_input_6.txt\n",
        "!./max_pairwise_sort_nlogn < stress_input_7.txt\n",
        "!./max_pairwise_sort_nlogn < stress_input_8.txt\n",
        "!./max_pairwise_sort_nlogn < stress_input_9.txt\n",
        "!./max_pairwise_sort_nlogn < stress_input_10.txt\n",
        "\n",
        "!./max_pairwise_sort_nlogn < stress_input_11.txt\n",
        "!./max_pairwise_sort_nlogn < stress_input_12.txt\n",
        "!./max_pairwise_sort_nlogn < stress_input_13.txt\n",
        "!./max_pairwise_sort_nlogn < stress_input_14.txt\n",
        "!./max_pairwise_sort_nlogn < stress_input_15.txt\n",
        "!./max_pairwise_sort_nlogn < stress_input_16.txt\n",
        "!./max_pairwise_sort_nlogn < stress_input_17.txt\n",
        "!./max_pairwise_sort_nlogn < stress_input_18.txt\n",
        "!./max_pairwise_sort_nlogn < stress_input_19.txt\n",
        "!./max_pairwise_sort_nlogn < stress_input_20.txt\n",
        "\n",
        "!./max_pairwise_sort_nlogn < stress_input_21.txt\n",
        "!./max_pairwise_sort_nlogn < stress_input_22.txt\n",
        "!./max_pairwise_sort_nlogn < stress_input_23.txt\n",
        "!./max_pairwise_sort_nlogn < stress_input_24.txt\n",
        "!./max_pairwise_sort_nlogn < stress_input_25.txt\n",
        "!./max_pairwise_sort_nlogn < stress_input_26.txt\n",
        "!./max_pairwise_sort_nlogn < stress_input_27.txt\n",
        "!./max_pairwise_sort_nlogn < stress_input_28.txt\n",
        "!./max_pairwise_sort_nlogn < stress_input_29.txt\n",
        "!./max_pairwise_sort_nlogn < stress_input_30.txt\n",
        "\n",
        "!./max_pairwise_sort_nlogn < stress_input_31.txt\n",
        "!./max_pairwise_sort_nlogn < stress_input_32.txt\n",
        "!./max_pairwise_sort_nlogn < stress_input_33.txt\n",
        "!./max_pairwise_sort_nlogn < stress_input_34.txt\n",
        "!./max_pairwise_sort_nlogn < stress_input_35.txt\n",
        "!./max_pairwise_sort_nlogn < stress_input_36.txt\n",
        "!./max_pairwise_sort_nlogn < stress_input_37.txt\n",
        "!./max_pairwise_sort_nlogn < stress_input_38.txt\n",
        "!./max_pairwise_sort_nlogn < stress_input_39.txt\n",
        "!./max_pairwise_sort_nlogn < stress_input_40.txt\n",
        "\n",
        "!./max_pairwise_sort_nlogn < stress_input_41.txt\n",
        "!./max_pairwise_sort_nlogn < stress_input_42.txt\n",
        "!./max_pairwise_sort_nlogn < stress_input_43.txt\n",
        "!./max_pairwise_sort_nlogn < stress_input_44.txt\n",
        "!./max_pairwise_sort_nlogn < stress_input_45.txt\n",
        "!./max_pairwise_sort_nlogn < stress_input_46.txt\n",
        "!./max_pairwise_sort_nlogn < stress_input_47.txt\n",
        "!./max_pairwise_sort_nlogn < stress_input_48.txt\n",
        "!./max_pairwise_sort_nlogn < stress_input_49.txt\n",
        "!./max_pairwise_sort_nlogn < stress_input_50.txt\n",
        "\n",
        "!./max_pairwise_sort_nlogn < stress_input_51.txt\n",
        "!./max_pairwise_sort_nlogn < stress_input_52.txt\n",
        "!./max_pairwise_sort_nlogn < stress_input_53.txt\n",
        "!./max_pairwise_sort_nlogn < stress_input_54.txt\n",
        "!./max_pairwise_sort_nlogn < stress_input_55.txt\n",
        "!./max_pairwise_sort_nlogn < stress_input_56.txt\n",
        "!./max_pairwise_sort_nlogn < stress_input_57.txt\n",
        "!./max_pairwise_sort_nlogn < stress_input_58.txt\n",
        "!./max_pairwise_sort_nlogn < stress_input_59.txt\n",
        "!./max_pairwise_sort_nlogn < stress_input_60.txt\n",
        "\n",
        "!./max_pairwise_sort_nlogn < stress_input_61.txt\n",
        "!./max_pairwise_sort_nlogn < stress_input_62.txt\n",
        "!./max_pairwise_sort_nlogn < stress_input_63.txt\n",
        "!./max_pairwise_sort_nlogn < stress_input_64.txt\n",
        "!./max_pairwise_sort_nlogn < stress_input_65.txt\n",
        "!./max_pairwise_sort_nlogn < stress_input_66.txt\n",
        "!./max_pairwise_sort_nlogn < stress_input_67.txt\n",
        "!./max_pairwise_sort_nlogn < stress_input_68.txt\n",
        "!./max_pairwise_sort_nlogn < stress_input_69.txt\n",
        "!./max_pairwise_sort_nlogn < stress_input_70.txt\n",
        "\n",
        "!./max_pairwise_sort_nlogn < stress_input_71.txt\n",
        "!./max_pairwise_sort_nlogn < stress_input_72.txt\n",
        "!./max_pairwise_sort_nlogn < stress_input_73.txt\n",
        "!./max_pairwise_sort_nlogn < stress_input_74.txt\n",
        "!./max_pairwise_sort_nlogn < stress_input_75.txt\n",
        "!./max_pairwise_sort_nlogn < stress_input_76.txt\n",
        "!./max_pairwise_sort_nlogn < stress_input_77.txt\n",
        "!./max_pairwise_sort_nlogn < stress_input_78.txt\n",
        "!./max_pairwise_sort_nlogn < stress_input_79.txt\n",
        "!./max_pairwise_sort_nlogn < stress_input_80.txt\n",
        "\n",
        "!./max_pairwise_sort_nlogn < stress_input_81.txt\n",
        "!./max_pairwise_sort_nlogn < stress_input_82.txt\n",
        "!./max_pairwise_sort_nlogn < stress_input_83.txt\n",
        "!./max_pairwise_sort_nlogn < stress_input_84.txt\n",
        "!./max_pairwise_sort_nlogn < stress_input_85.txt\n",
        "!./max_pairwise_sort_nlogn < stress_input_86.txt\n",
        "!./max_pairwise_sort_nlogn < stress_input_87.txt\n",
        "!./max_pairwise_sort_nlogn < stress_input_88.txt\n",
        "!./max_pairwise_sort_nlogn < stress_input_89.txt\n",
        "!./max_pairwise_sort_nlogn < stress_input_90.txt\n",
        "\n",
        "!./max_pairwise_sort_nlogn < stress_input_91.txt\n",
        "!./max_pairwise_sort_nlogn < stress_input_92.txt\n",
        "!./max_pairwise_sort_nlogn < stress_input_93.txt\n",
        "!./max_pairwise_sort_nlogn < stress_input_94.txt\n",
        "!./max_pairwise_sort_nlogn < stress_input_95.txt\n",
        "!./max_pairwise_sort_nlogn < stress_input_96.txt\n",
        "!./max_pairwise_sort_nlogn < stress_input_97.txt\n",
        "!./max_pairwise_sort_nlogn < stress_input_98.txt\n",
        "!./max_pairwise_sort_nlogn < stress_input_99.txt\n",
        "!./max_pairwise_sort_nlogn < stress_input_100.txt\n"
      ]
    },
    {
      "cell_type": "markdown",
      "metadata": {
        "id": "HctdtCK_zkAG"
      },
      "source": []
    },
    {
      "cell_type": "markdown",
      "metadata": {
        "id": "UynvmzS00LvZ"
      },
      "source": [
        "# Python"
      ]
    },
    {
      "cell_type": "markdown",
      "metadata": {
        "id": "QonQgSfW0Lva"
      },
      "source": [
        "## Super efficient solution (𝑇(𝑛)<10𝑛=𝑂(𝑛))"
      ]
    },
    {
      "cell_type": "code",
      "execution_count": null,
      "metadata": {
        "colab": {
          "background_save": true
        },
        "id": "bvw_eZws0Lva"
      },
      "outputs": [],
      "source": [
        "%%writefile max_pairwise_sort_super_efficient.py\n",
        "n = int(input())                            # 1\n",
        "max_number = float(\"-inf\")                  # 1\n",
        "second_max_number = float(\"-inf\")           # 1\n",
        "\n",
        "for num in input().split():                 # 3 + 2n\n",
        "\n",
        "    num = int(num)                          # n\n",
        "\n",
        "    if num > max_number:                    # n\n",
        "        second_max_number = max_number      # [0, n] in the worst case it would be n times\n",
        "        max_number = num                    # [0, n] in the worst case it would be n times\n",
        "    elif num > second_max_number:           # n\n",
        "        second_max_number = num             # [0, n] in the worst case it would be n times\n",
        "\n",
        "print(f\"n: {n} Product: {max_number * second_max_number}\")"
      ]
    },
    {
      "cell_type": "code",
      "execution_count": null,
      "metadata": {
        "colab": {
          "background_save": true
        },
        "id": "klFyKRSB0Lvb"
      },
      "outputs": [],
      "source": [
        "%%time\n",
        "!python max_pairwise_sort_super_efficient.py < stress_input_1.txt\n",
        "!python max_pairwise_sort_super_efficient.py < stress_input_2.txt\n",
        "!python max_pairwise_sort_super_efficient.py < stress_input_3.txt\n",
        "!python max_pairwise_sort_super_efficient.py < stress_input_4.txt\n",
        "!python max_pairwise_sort_super_efficient.py < stress_input_5.txt\n",
        "!python max_pairwise_sort_super_efficient.py < stress_input_6.txt\n",
        "!python max_pairwise_sort_super_efficient.py < stress_input_7.txt\n",
        "!python max_pairwise_sort_super_efficient.py < stress_input_8.txt\n",
        "!python max_pairwise_sort_super_efficient.py < stress_input_9.txt\n",
        "!python max_pairwise_sort_super_efficient.py < stress_input_10.txt\n",
        "\n",
        "!python max_pairwise_sort_super_efficient.py < stress_input_11.txt\n",
        "!python max_pairwise_sort_super_efficient.py < stress_input_12.txt\n",
        "!python max_pairwise_sort_super_efficient.py < stress_input_13.txt\n",
        "!python max_pairwise_sort_super_efficient.py < stress_input_14.txt\n",
        "!python max_pairwise_sort_super_efficient.py < stress_input_15.txt\n",
        "!python max_pairwise_sort_super_efficient.py < stress_input_16.txt\n",
        "!python max_pairwise_sort_super_efficient.py < stress_input_17.txt\n",
        "!python max_pairwise_sort_super_efficient.py < stress_input_18.txt\n",
        "!python max_pairwise_sort_super_efficient.py < stress_input_19.txt\n",
        "!python max_pairwise_sort_super_efficient.py < stress_input_20.txt\n",
        "\n",
        "!python max_pairwise_sort_super_efficient.py < stress_input_21.txt\n",
        "!python max_pairwise_sort_super_efficient.py < stress_input_22.txt\n",
        "!python max_pairwise_sort_super_efficient.py < stress_input_23.txt\n",
        "!python max_pairwise_sort_super_efficient.py < stress_input_24.txt\n",
        "!python max_pairwise_sort_super_efficient.py < stress_input_25.txt\n",
        "!python max_pairwise_sort_super_efficient.py < stress_input_26.txt\n",
        "!python max_pairwise_sort_super_efficient.py < stress_input_27.txt\n",
        "!python max_pairwise_sort_super_efficient.py < stress_input_28.txt\n",
        "!python max_pairwise_sort_super_efficient.py < stress_input_29.txt\n",
        "!python max_pairwise_sort_super_efficient.py < stress_input_30.txt\n",
        "\n",
        "!python max_pairwise_sort_super_efficient.py < stress_input_31.txt\n",
        "!python max_pairwise_sort_super_efficient.py < stress_input_32.txt\n",
        "!python max_pairwise_sort_super_efficient.py < stress_input_33.txt\n",
        "!python max_pairwise_sort_super_efficient.py < stress_input_34.txt\n",
        "!python max_pairwise_sort_super_efficient.py < stress_input_35.txt\n",
        "!python max_pairwise_sort_super_efficient.py < stress_input_36.txt\n",
        "!python max_pairwise_sort_super_efficient.py < stress_input_37.txt\n",
        "!python max_pairwise_sort_super_efficient.py < stress_input_38.txt\n",
        "!python max_pairwise_sort_super_efficient.py < stress_input_39.txt\n",
        "!python max_pairwise_sort_super_efficient.py < stress_input_40.txt\n",
        "\n",
        "!python max_pairwise_sort_super_efficient.py < stress_input_41.txt\n",
        "!python max_pairwise_sort_super_efficient.py < stress_input_42.txt\n",
        "!python max_pairwise_sort_super_efficient.py < stress_input_43.txt\n",
        "!python max_pairwise_sort_super_efficient.py < stress_input_44.txt\n",
        "!python max_pairwise_sort_super_efficient.py < stress_input_45.txt\n",
        "!python max_pairwise_sort_super_efficient.py < stress_input_46.txt\n",
        "!python max_pairwise_sort_super_efficient.py < stress_input_47.txt\n",
        "!python max_pairwise_sort_super_efficient.py < stress_input_48.txt\n",
        "!python max_pairwise_sort_super_efficient.py < stress_input_49.txt\n",
        "!python max_pairwise_sort_super_efficient.py < stress_input_50.txt\n",
        "\n",
        "!python max_pairwise_sort_super_efficient.py < stress_input_51.txt\n",
        "!python max_pairwise_sort_super_efficient.py < stress_input_52.txt\n",
        "!python max_pairwise_sort_super_efficient.py < stress_input_53.txt\n",
        "!python max_pairwise_sort_super_efficient.py < stress_input_54.txt\n",
        "!python max_pairwise_sort_super_efficient.py < stress_input_55.txt\n",
        "!python max_pairwise_sort_super_efficient.py < stress_input_56.txt\n",
        "!python max_pairwise_sort_super_efficient.py < stress_input_57.txt\n",
        "!python max_pairwise_sort_super_efficient.py < stress_input_58.txt\n",
        "!python max_pairwise_sort_super_efficient.py < stress_input_59.txt\n",
        "!python max_pairwise_sort_super_efficient.py < stress_input_60.txt\n",
        "\n",
        "!python max_pairwise_sort_super_efficient.py < stress_input_61.txt\n",
        "!python max_pairwise_sort_super_efficient.py < stress_input_62.txt\n",
        "!python max_pairwise_sort_super_efficient.py < stress_input_63.txt\n",
        "!python max_pairwise_sort_super_efficient.py < stress_input_64.txt\n",
        "!python max_pairwise_sort_super_efficient.py < stress_input_65.txt\n",
        "!python max_pairwise_sort_super_efficient.py < stress_input_66.txt\n",
        "!python max_pairwise_sort_super_efficient.py < stress_input_67.txt\n",
        "!python max_pairwise_sort_super_efficient.py < stress_input_68.txt\n",
        "!python max_pairwise_sort_super_efficient.py < stress_input_69.txt\n",
        "!python max_pairwise_sort_super_efficient.py < stress_input_70.txt\n",
        "\n",
        "!python max_pairwise_sort_super_efficient.py < stress_input_71.txt\n",
        "!python max_pairwise_sort_super_efficient.py < stress_input_72.txt\n",
        "!python max_pairwise_sort_super_efficient.py < stress_input_73.txt\n",
        "!python max_pairwise_sort_super_efficient.py < stress_input_74.txt\n",
        "!python max_pairwise_sort_super_efficient.py < stress_input_75.txt\n",
        "!python max_pairwise_sort_super_efficient.py < stress_input_76.txt\n",
        "!python max_pairwise_sort_super_efficient.py < stress_input_77.txt\n",
        "!python max_pairwise_sort_super_efficient.py < stress_input_78.txt\n",
        "!python max_pairwise_sort_super_efficient.py < stress_input_79.txt\n",
        "!python max_pairwise_sort_super_efficient.py < stress_input_80.txt\n",
        "\n",
        "!python max_pairwise_sort_super_efficient.py < stress_input_81.txt\n",
        "!python max_pairwise_sort_super_efficient.py < stress_input_82.txt\n",
        "!python max_pairwise_sort_super_efficient.py < stress_input_83.txt\n",
        "!python max_pairwise_sort_super_efficient.py < stress_input_84.txt\n",
        "!python max_pairwise_sort_super_efficient.py < stress_input_85.txt\n",
        "!python max_pairwise_sort_super_efficient.py < stress_input_86.txt\n",
        "!python max_pairwise_sort_super_efficient.py < stress_input_87.txt\n",
        "!python max_pairwise_sort_super_efficient.py < stress_input_88.txt\n",
        "!python max_pairwise_sort_super_efficient.py < stress_input_89.txt\n",
        "!python max_pairwise_sort_super_efficient.py < stress_input_90.txt\n",
        "\n",
        "!python max_pairwise_sort_super_efficient.py < stress_input_91.txt\n",
        "!python max_pairwise_sort_super_efficient.py < stress_input_92.txt\n",
        "!python max_pairwise_sort_super_efficient.py < stress_input_93.txt\n",
        "!python max_pairwise_sort_super_efficient.py < stress_input_94.txt\n",
        "!python max_pairwise_sort_super_efficient.py < stress_input_95.txt\n",
        "!python max_pairwise_sort_super_efficient.py < stress_input_96.txt\n",
        "!python max_pairwise_sort_super_efficient.py < stress_input_97.txt\n",
        "!python max_pairwise_sort_super_efficient.py < stress_input_98.txt\n",
        "!python max_pairwise_sort_super_efficient.py < stress_input_99.txt\n",
        "!python max_pairwise_sort_super_efficient.py < stress_input_100.txt\n"
      ]
    },
    {
      "cell_type": "markdown",
      "metadata": {
        "id": "vvskSkkR0Lvb"
      },
      "source": [
        "## Sort solution (𝑇(𝑛)=𝑂(𝑛𝑙𝑛𝑔))"
      ]
    },
    {
      "cell_type": "code",
      "execution_count": null,
      "metadata": {
        "colab": {
          "background_save": true
        },
        "id": "zq_FEgs00Lvb"
      },
      "outputs": [],
      "source": [
        "%%writefile max_pairwise_sort_nlogn.py\n",
        "# Read input values\n",
        "n = int(input())              # 1\n",
        "numbers = list(map(int, input().split()))  # n\n",
        "\n",
        "# Sort the list\n",
        "numbers.sort()                # n*log(n)\n",
        "\n",
        "# Calculate the maximum pairwise product\n",
        "result = numbers[-1] * numbers[-2]  # 1\n",
        "\n",
        "# Print the result\n",
        "print(f\"n: {n} Product: {result}\")"
      ]
    },
    {
      "cell_type": "code",
      "execution_count": null,
      "metadata": {
        "colab": {
          "background_save": true
        },
        "id": "MRCwUqwT0Lvc"
      },
      "outputs": [],
      "source": [
        "%%time\n",
        "!python max_pairwise_sort_nlogn.py < stress_input_1.txt\n",
        "!python max_pairwise_sort_nlogn.py < stress_input_2.txt\n",
        "!python max_pairwise_sort_nlogn.py < stress_input_3.txt\n",
        "!python max_pairwise_sort_nlogn.py < stress_input_4.txt\n",
        "!python max_pairwise_sort_nlogn.py < stress_input_5.txt\n",
        "!python max_pairwise_sort_nlogn.py < stress_input_6.txt\n",
        "!python max_pairwise_sort_nlogn.py < stress_input_7.txt\n",
        "!python max_pairwise_sort_nlogn.py < stress_input_8.txt\n",
        "!python max_pairwise_sort_nlogn.py < stress_input_9.txt\n",
        "!python max_pairwise_sort_nlogn.py < stress_input_10.txt\n",
        "\n",
        "!python max_pairwise_sort_nlogn.py < stress_input_11.txt\n",
        "!python max_pairwise_sort_nlogn.py < stress_input_12.txt\n",
        "!python max_pairwise_sort_nlogn.py < stress_input_13.txt\n",
        "!python max_pairwise_sort_nlogn.py < stress_input_14.txt\n",
        "!python max_pairwise_sort_nlogn.py < stress_input_15.txt\n",
        "!python max_pairwise_sort_nlogn.py < stress_input_16.txt\n",
        "!python max_pairwise_sort_nlogn.py < stress_input_17.txt\n",
        "!python max_pairwise_sort_nlogn.py < stress_input_18.txt\n",
        "!python max_pairwise_sort_nlogn.py < stress_input_19.txt\n",
        "!python max_pairwise_sort_nlogn.py < stress_input_20.txt\n",
        "\n",
        "!python max_pairwise_sort_nlogn.py < stress_input_21.txt\n",
        "!python max_pairwise_sort_nlogn.py < stress_input_22.txt\n",
        "!python max_pairwise_sort_nlogn.py < stress_input_23.txt\n",
        "!python max_pairwise_sort_nlogn.py < stress_input_24.txt\n",
        "!python max_pairwise_sort_nlogn.py < stress_input_25.txt\n",
        "!python max_pairwise_sort_nlogn.py < stress_input_26.txt\n",
        "!python max_pairwise_sort_nlogn.py < stress_input_27.txt\n",
        "!python max_pairwise_sort_nlogn.py < stress_input_28.txt\n",
        "!python max_pairwise_sort_nlogn.py < stress_input_29.txt\n",
        "!python max_pairwise_sort_nlogn.py < stress_input_30.txt\n",
        "\n",
        "!python max_pairwise_sort_nlogn.py < stress_input_31.txt\n",
        "!python max_pairwise_sort_nlogn.py < stress_input_32.txt\n",
        "!python max_pairwise_sort_nlogn.py < stress_input_33.txt\n",
        "!python max_pairwise_sort_nlogn.py < stress_input_34.txt\n",
        "!python max_pairwise_sort_nlogn.py < stress_input_35.txt\n",
        "!python max_pairwise_sort_nlogn.py < stress_input_36.txt\n",
        "!python max_pairwise_sort_nlogn.py < stress_input_37.txt\n",
        "!python max_pairwise_sort_nlogn.py < stress_input_38.txt\n",
        "!python max_pairwise_sort_nlogn.py < stress_input_39.txt\n",
        "!python max_pairwise_sort_nlogn.py < stress_input_40.txt\n",
        "\n",
        "!python max_pairwise_sort_nlogn.py < stress_input_41.txt\n",
        "!python max_pairwise_sort_nlogn.py < stress_input_42.txt\n",
        "!python max_pairwise_sort_nlogn.py < stress_input_43.txt\n",
        "!python max_pairwise_sort_nlogn.py < stress_input_44.txt\n",
        "!python max_pairwise_sort_nlogn.py < stress_input_45.txt\n",
        "!python max_pairwise_sort_nlogn.py < stress_input_46.txt\n",
        "!python max_pairwise_sort_nlogn.py < stress_input_47.txt\n",
        "!python max_pairwise_sort_nlogn.py < stress_input_48.txt\n",
        "!python max_pairwise_sort_nlogn.py < stress_input_49.txt\n",
        "!python max_pairwise_sort_nlogn.py < stress_input_50.txt\n",
        "\n",
        "!python max_pairwise_sort_nlogn.py < stress_input_51.txt\n",
        "!python max_pairwise_sort_nlogn.py < stress_input_52.txt\n",
        "!python max_pairwise_sort_nlogn.py < stress_input_53.txt\n",
        "!python max_pairwise_sort_nlogn.py < stress_input_54.txt\n",
        "!python max_pairwise_sort_nlogn.py < stress_input_55.txt\n",
        "!python max_pairwise_sort_nlogn.py < stress_input_56.txt\n",
        "!python max_pairwise_sort_nlogn.py < stress_input_57.txt\n",
        "!python max_pairwise_sort_nlogn.py < stress_input_58.txt\n",
        "!python max_pairwise_sort_nlogn.py < stress_input_59.txt\n",
        "!python max_pairwise_sort_nlogn.py < stress_input_60.txt\n",
        "\n",
        "!python max_pairwise_sort_nlogn.py < stress_input_61.txt\n",
        "!python max_pairwise_sort_nlogn.py < stress_input_62.txt\n",
        "!python max_pairwise_sort_nlogn.py < stress_input_63.txt\n",
        "!python max_pairwise_sort_nlogn.py < stress_input_64.txt\n",
        "!python max_pairwise_sort_nlogn.py < stress_input_65.txt\n",
        "!python max_pairwise_sort_nlogn.py < stress_input_66.txt\n",
        "!python max_pairwise_sort_nlogn.py < stress_input_67.txt\n",
        "!python max_pairwise_sort_nlogn.py < stress_input_68.txt\n",
        "!python max_pairwise_sort_nlogn.py < stress_input_69.txt\n",
        "!python max_pairwise_sort_nlogn.py < stress_input_70.txt\n",
        "\n",
        "!python max_pairwise_sort_nlogn.py < stress_input_71.txt\n",
        "!python max_pairwise_sort_nlogn.py < stress_input_72.txt\n",
        "!python max_pairwise_sort_nlogn.py < stress_input_73.txt\n",
        "!python max_pairwise_sort_nlogn.py < stress_input_74.txt\n",
        "!python max_pairwise_sort_nlogn.py < stress_input_75.txt\n",
        "!python max_pairwise_sort_nlogn.py < stress_input_76.txt\n",
        "!python max_pairwise_sort_nlogn.py < stress_input_77.txt\n",
        "!python max_pairwise_sort_nlogn.py < stress_input_78.txt\n",
        "!python max_pairwise_sort_nlogn.py < stress_input_79.txt\n",
        "!python max_pairwise_sort_nlogn.py < stress_input_80.txt\n",
        "\n",
        "!python max_pairwise_sort_nlogn.py < stress_input_81.txt\n",
        "!python max_pairwise_sort_nlogn.py < stress_input_82.txt\n",
        "!python max_pairwise_sort_nlogn.py < stress_input_83.txt\n",
        "!python max_pairwise_sort_nlogn.py < stress_input_84.txt\n",
        "!python max_pairwise_sort_nlogn.py < stress_input_85.txt\n",
        "!python max_pairwise_sort_nlogn.py < stress_input_86.txt\n",
        "!python max_pairwise_sort_nlogn.py < stress_input_87.txt\n",
        "!python max_pairwise_sort_nlogn.py < stress_input_88.txt\n",
        "!python max_pairwise_sort_nlogn.py < stress_input_89.txt\n",
        "!python max_pairwise_sort_nlogn.py < stress_input_90.txt\n",
        "\n",
        "!python max_pairwise_sort_nlogn.py < stress_input_91.txt\n",
        "!python max_pairwise_sort_nlogn.py < stress_input_92.txt\n",
        "!python max_pairwise_sort_nlogn.py < stress_input_93.txt\n",
        "!python max_pairwise_sort_nlogn.py < stress_input_94.txt\n",
        "!python max_pairwise_sort_nlogn.py < stress_input_95.txt\n",
        "!python max_pairwise_sort_nlogn.py < stress_input_96.txt\n",
        "!python max_pairwise_sort_nlogn.py < stress_input_97.txt\n",
        "!python max_pairwise_sort_nlogn.py < stress_input_98.txt\n",
        "!python max_pairwise_sort_nlogn.py < stress_input_99.txt\n",
        "!python max_pairwise_sort_nlogn.py < stress_input_100.txt\n"
      ]
    },
    {
      "cell_type": "markdown",
      "metadata": {
        "id": "70Qr7X4O2CQ1"
      },
      "source": [
        "# Resultados"
      ]
    },
    {
      "cell_type": "code",
      "execution_count": null,
      "metadata": {
        "colab": {
          "background_save": true
        },
        "id": "UvDLVZV62GEY"
      },
      "outputs": [],
      "source": [
        "# Import the Pandas library\n",
        "import pandas as pd\n",
        "\n",
        "# Create a sample DataFrame\n",
        "data = {'Language': ['C++', 'Python'],\n",
        "        'Super effienct (ms)': [539, 516],\n",
        "        'Sort solution (ms)': [542, 485]}\n",
        "\n",
        "df = pd.DataFrame(data)\n",
        "\n",
        "# Display the table\n",
        "display(df)"
      ]
    }
  ],
  "metadata": {
    "colab": {
      "include_colab_link": true,
      "provenance": []
    },
    "kernelspec": {
      "display_name": "Python 3",
      "name": "python3"
    },
    "language_info": {
      "name": "python"
    }
  },
  "nbformat": 4,
  "nbformat_minor": 0
}
